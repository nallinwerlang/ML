{
  "nbformat": 4,
  "nbformat_minor": 0,
  "metadata": {
    "colab": {
      "provenance": [],
      "toc_visible": true,
      "include_colab_link": true
    },
    "kernelspec": {
      "name": "python3",
      "display_name": "Python 3"
    },
    "language_info": {
      "name": "python"
    }
  },
  "cells": [
    {
      "cell_type": "markdown",
      "metadata": {
        "id": "view-in-github",
        "colab_type": "text"
      },
      "source": [
        "<a href=\"https://colab.research.google.com/github/nallinwerlang/ML/blob/main/01_ARTIGO_ML.ipynb\" target=\"_parent\"><img src=\"https://colab.research.google.com/assets/colab-badge.svg\" alt=\"Open In Colab\"/></a>"
      ]
    },
    {
      "cell_type": "markdown",
      "source": [
        "#DETECÇÃO DE SMURFING"
      ],
      "metadata": {
        "id": "ONOnYGvGTTgg"
      }
    },
    {
      "cell_type": "markdown",
      "metadata": {
        "id": "aDJ9zKvEb59H"
      },
      "source": [
        "## Pré-processamento (ETL Process - Load Data)"
      ]
    },
    {
      "cell_type": "code",
      "source": [
        "from google.colab import drive\n",
        "drive.mount('/content/drive')"
      ],
      "metadata": {
        "colab": {
          "base_uri": "https://localhost:8080/"
        },
        "id": "zoRTOxEFBdch",
        "outputId": "9d1d9213-ac24-4343-8ff7-d9aed1a4c402"
      },
      "execution_count": null,
      "outputs": [
        {
          "output_type": "stream",
          "name": "stdout",
          "text": [
            "Drive already mounted at /content/drive; to attempt to forcibly remount, call drive.mount(\"/content/drive\", force_remount=True).\n"
          ]
        }
      ]
    },
    {
      "cell_type": "code",
      "metadata": {
        "colab": {
          "base_uri": "https://localhost:8080/",
          "height": 206
        },
        "id": "s7j3vRdOWX4m",
        "outputId": "d1075694-a183-4a01-e110-99ce87cb4035"
      },
      "source": [
        "import pandas as pd\n",
        "dados = pd.read_excel('/content/drive/MyDrive/ufsc/ML/Artigo/CASO_TESTE2.xlsx') \n",
        "dados.head()"
      ],
      "execution_count": 74,
      "outputs": [
        {
          "output_type": "execute_result",
          "data": {
            "text/plain": [
              "            NOME_TITULAR           DESCRICAO_LANCAMENTO  CNAB DATA_LANCAMENTO  \\\n",
              "0  ANDREZA RAMOS DA ROSA  DEPOSITO EM DINHEIRO NO CAIXA   220      2010-01-11   \n",
              "1  ANDREZA RAMOS DA ROSA  DEPOSITO EM DINHEIRO NO CAIXA   220      2010-01-11   \n",
              "2  ANDREZA RAMOS DA ROSA             CREDITO DE SALARIO   205      2010-02-05   \n",
              "3  ANDREZA RAMOS DA ROSA       TRANSF SALDO C/SAL P/ CC   117      2010-02-05   \n",
              "4  ANDREZA RAMOS DA ROSA             CREDITO DE SALARIO   205      2010-03-05   \n",
              "\n",
              "   VALOR_TRANSACAO NATUREZA_LANCAMENTO  SMURFING  \n",
              "0          1000.00                   C         1  \n",
              "1          1000.00                   C         1  \n",
              "2           440.73                   C         0  \n",
              "3           440.73                   D         0  \n",
              "4           455.28                   C         0  "
            ],
            "text/html": [
              "\n",
              "  <div id=\"df-0038f732-f9aa-4167-a20a-39a8bcfd9e42\">\n",
              "    <div class=\"colab-df-container\">\n",
              "      <div>\n",
              "<style scoped>\n",
              "    .dataframe tbody tr th:only-of-type {\n",
              "        vertical-align: middle;\n",
              "    }\n",
              "\n",
              "    .dataframe tbody tr th {\n",
              "        vertical-align: top;\n",
              "    }\n",
              "\n",
              "    .dataframe thead th {\n",
              "        text-align: right;\n",
              "    }\n",
              "</style>\n",
              "<table border=\"1\" class=\"dataframe\">\n",
              "  <thead>\n",
              "    <tr style=\"text-align: right;\">\n",
              "      <th></th>\n",
              "      <th>NOME_TITULAR</th>\n",
              "      <th>DESCRICAO_LANCAMENTO</th>\n",
              "      <th>CNAB</th>\n",
              "      <th>DATA_LANCAMENTO</th>\n",
              "      <th>VALOR_TRANSACAO</th>\n",
              "      <th>NATUREZA_LANCAMENTO</th>\n",
              "      <th>SMURFING</th>\n",
              "    </tr>\n",
              "  </thead>\n",
              "  <tbody>\n",
              "    <tr>\n",
              "      <th>0</th>\n",
              "      <td>ANDREZA RAMOS DA ROSA</td>\n",
              "      <td>DEPOSITO EM DINHEIRO NO CAIXA</td>\n",
              "      <td>220</td>\n",
              "      <td>2010-01-11</td>\n",
              "      <td>1000.00</td>\n",
              "      <td>C</td>\n",
              "      <td>1</td>\n",
              "    </tr>\n",
              "    <tr>\n",
              "      <th>1</th>\n",
              "      <td>ANDREZA RAMOS DA ROSA</td>\n",
              "      <td>DEPOSITO EM DINHEIRO NO CAIXA</td>\n",
              "      <td>220</td>\n",
              "      <td>2010-01-11</td>\n",
              "      <td>1000.00</td>\n",
              "      <td>C</td>\n",
              "      <td>1</td>\n",
              "    </tr>\n",
              "    <tr>\n",
              "      <th>2</th>\n",
              "      <td>ANDREZA RAMOS DA ROSA</td>\n",
              "      <td>CREDITO DE SALARIO</td>\n",
              "      <td>205</td>\n",
              "      <td>2010-02-05</td>\n",
              "      <td>440.73</td>\n",
              "      <td>C</td>\n",
              "      <td>0</td>\n",
              "    </tr>\n",
              "    <tr>\n",
              "      <th>3</th>\n",
              "      <td>ANDREZA RAMOS DA ROSA</td>\n",
              "      <td>TRANSF SALDO C/SAL P/ CC</td>\n",
              "      <td>117</td>\n",
              "      <td>2010-02-05</td>\n",
              "      <td>440.73</td>\n",
              "      <td>D</td>\n",
              "      <td>0</td>\n",
              "    </tr>\n",
              "    <tr>\n",
              "      <th>4</th>\n",
              "      <td>ANDREZA RAMOS DA ROSA</td>\n",
              "      <td>CREDITO DE SALARIO</td>\n",
              "      <td>205</td>\n",
              "      <td>2010-03-05</td>\n",
              "      <td>455.28</td>\n",
              "      <td>C</td>\n",
              "      <td>0</td>\n",
              "    </tr>\n",
              "  </tbody>\n",
              "</table>\n",
              "</div>\n",
              "      <button class=\"colab-df-convert\" onclick=\"convertToInteractive('df-0038f732-f9aa-4167-a20a-39a8bcfd9e42')\"\n",
              "              title=\"Convert this dataframe to an interactive table.\"\n",
              "              style=\"display:none;\">\n",
              "        \n",
              "  <svg xmlns=\"http://www.w3.org/2000/svg\" height=\"24px\"viewBox=\"0 0 24 24\"\n",
              "       width=\"24px\">\n",
              "    <path d=\"M0 0h24v24H0V0z\" fill=\"none\"/>\n",
              "    <path d=\"M18.56 5.44l.94 2.06.94-2.06 2.06-.94-2.06-.94-.94-2.06-.94 2.06-2.06.94zm-11 1L8.5 8.5l.94-2.06 2.06-.94-2.06-.94L8.5 2.5l-.94 2.06-2.06.94zm10 10l.94 2.06.94-2.06 2.06-.94-2.06-.94-.94-2.06-.94 2.06-2.06.94z\"/><path d=\"M17.41 7.96l-1.37-1.37c-.4-.4-.92-.59-1.43-.59-.52 0-1.04.2-1.43.59L10.3 9.45l-7.72 7.72c-.78.78-.78 2.05 0 2.83L4 21.41c.39.39.9.59 1.41.59.51 0 1.02-.2 1.41-.59l7.78-7.78 2.81-2.81c.8-.78.8-2.07 0-2.86zM5.41 20L4 18.59l7.72-7.72 1.47 1.35L5.41 20z\"/>\n",
              "  </svg>\n",
              "      </button>\n",
              "      \n",
              "  <style>\n",
              "    .colab-df-container {\n",
              "      display:flex;\n",
              "      flex-wrap:wrap;\n",
              "      gap: 12px;\n",
              "    }\n",
              "\n",
              "    .colab-df-convert {\n",
              "      background-color: #E8F0FE;\n",
              "      border: none;\n",
              "      border-radius: 50%;\n",
              "      cursor: pointer;\n",
              "      display: none;\n",
              "      fill: #1967D2;\n",
              "      height: 32px;\n",
              "      padding: 0 0 0 0;\n",
              "      width: 32px;\n",
              "    }\n",
              "\n",
              "    .colab-df-convert:hover {\n",
              "      background-color: #E2EBFA;\n",
              "      box-shadow: 0px 1px 2px rgba(60, 64, 67, 0.3), 0px 1px 3px 1px rgba(60, 64, 67, 0.15);\n",
              "      fill: #174EA6;\n",
              "    }\n",
              "\n",
              "    [theme=dark] .colab-df-convert {\n",
              "      background-color: #3B4455;\n",
              "      fill: #D2E3FC;\n",
              "    }\n",
              "\n",
              "    [theme=dark] .colab-df-convert:hover {\n",
              "      background-color: #434B5C;\n",
              "      box-shadow: 0px 1px 3px 1px rgba(0, 0, 0, 0.15);\n",
              "      filter: drop-shadow(0px 1px 2px rgba(0, 0, 0, 0.3));\n",
              "      fill: #FFFFFF;\n",
              "    }\n",
              "  </style>\n",
              "\n",
              "      <script>\n",
              "        const buttonEl =\n",
              "          document.querySelector('#df-0038f732-f9aa-4167-a20a-39a8bcfd9e42 button.colab-df-convert');\n",
              "        buttonEl.style.display =\n",
              "          google.colab.kernel.accessAllowed ? 'block' : 'none';\n",
              "\n",
              "        async function convertToInteractive(key) {\n",
              "          const element = document.querySelector('#df-0038f732-f9aa-4167-a20a-39a8bcfd9e42');\n",
              "          const dataTable =\n",
              "            await google.colab.kernel.invokeFunction('convertToInteractive',\n",
              "                                                     [key], {});\n",
              "          if (!dataTable) return;\n",
              "\n",
              "          const docLinkHtml = 'Like what you see? Visit the ' +\n",
              "            '<a target=\"_blank\" href=https://colab.research.google.com/notebooks/data_table.ipynb>data table notebook</a>'\n",
              "            + ' to learn more about interactive tables.';\n",
              "          element.innerHTML = '';\n",
              "          dataTable['output_type'] = 'display_data';\n",
              "          await google.colab.output.renderOutput(dataTable, element);\n",
              "          const docLink = document.createElement('div');\n",
              "          docLink.innerHTML = docLinkHtml;\n",
              "          element.appendChild(docLink);\n",
              "        }\n",
              "      </script>\n",
              "    </div>\n",
              "  </div>\n",
              "  "
            ]
          },
          "metadata": {},
          "execution_count": 74
        }
      ]
    },
    {
      "cell_type": "markdown",
      "source": [
        "##Análise do conjunto de dados"
      ],
      "metadata": {
        "id": "E_SeAz-iTXJL"
      }
    },
    {
      "cell_type": "code",
      "source": [
        "NATUREZA_LANCAMENTO = dados['NATUREZA_LANCAMENTO'].value_counts(normalize=True)*100\n",
        "NATUREZA_LANCAMENTO"
      ],
      "metadata": {
        "id": "QzB1idJVR5sH",
        "colab": {
          "base_uri": "https://localhost:8080/"
        },
        "outputId": "3838ad72-6bdc-405d-885c-8c6fb7025b59"
      },
      "execution_count": 23,
      "outputs": [
        {
          "output_type": "execute_result",
          "data": {
            "text/plain": [
              "D    61.139296\n",
              "C    38.860704\n",
              "Name: NATUREZA_LANCAMENTO, dtype: float64"
            ]
          },
          "metadata": {},
          "execution_count": 23
        }
      ]
    },
    {
      "cell_type": "code",
      "source": [
        "import matplotlib.pyplot as plt\n",
        "\n",
        "NATUREZA_LANCAMENTO.plot.bar(color=['red', 'blue'], ec='k', alpha=0.6)\n",
        "plt.title('Proporção entre transações a crédito e débito')\n",
        "plt.xticks(rotation = 360, fontsize=12)\n",
        "plt.yticks(fontsize=12)\n",
        "plt.xlabel('Descrição do Lançamento', fontsize=13)\n",
        "plt.ylabel('Porcentagem (%)', fontsize=13)"
      ],
      "metadata": {
        "id": "J9oxTHaYUPQP",
        "colab": {
          "base_uri": "https://localhost:8080/",
          "height": 318
        },
        "outputId": "386ee88e-0352-4bcc-c02f-7411f538948a"
      },
      "execution_count": 73,
      "outputs": [
        {
          "output_type": "execute_result",
          "data": {
            "text/plain": [
              "Text(0, 0.5, 'Porcentagem (%)')"
            ]
          },
          "metadata": {},
          "execution_count": 73
        },
        {
          "output_type": "display_data",
          "data": {
            "text/plain": [
              "<Figure size 432x288 with 1 Axes>"
            ],
            "image/png": "[encoded data removed]"
          },
          "metadata": {
            "needs_background": "light"
          }
        }
      ]
    },
    {
      "cell_type": "code",
      "source": [
        "CNAB = dados['CNAB'].value_counts(normalize=True)*100\n",
        "CNAB"
      ],
      "metadata": {
        "id": "1YqFsepdSVwi"
      },
      "execution_count": null,
      "outputs": []
    },
    {
      "cell_type": "code",
      "source": [
        "SMURFING = dados['SMURFING'].value_counts()\n",
        "SMURFING"
      ],
      "metadata": {
        "colab": {
          "base_uri": "https://localhost:8080/"
        },
        "id": "nILW9-ZXmEDx",
        "outputId": "1a9999db-17cc-4c5f-8f6f-63d29e20ea5a"
      },
      "execution_count": 29,
      "outputs": [
        {
          "output_type": "execute_result",
          "data": {
            "text/plain": [
              "0    6471\n",
              "1     428\n",
              "Name: SMURFING, dtype: int64"
            ]
          },
          "metadata": {},
          "execution_count": 29
        }
      ]
    },
    {
      "cell_type": "code",
      "source": [
        "SMURFING = dados['SMURFING'].value_counts(normalize=True)*100\n",
        "\n",
        "SMURFING.plot.bar(color=['blue', 'red'], ec='k', alpha=0.6)\n",
        "plt.title('Proporção de transações fraudulentas')\n",
        "plt.xticks(rotation = 360, fontsize=12)\n",
        "plt.yticks(fontsize=12)\n",
        "plt.xlabel('Fraude', fontsize=13)\n",
        "plt.ylabel('Porcentagem (%)', fontsize=13)"
      ],
      "metadata": {
        "id": "xYPBSpg3S_3k",
        "colab": {
          "base_uri": "https://localhost:8080/",
          "height": 318
        },
        "outputId": "a992e467-0141-4c20-cf4a-3f28d6d15517"
      },
      "execution_count": 66,
      "outputs": [
        {
          "output_type": "execute_result",
          "data": {
            "text/plain": [
              "Text(0, 0.5, 'Porcentagem (%)')"
            ]
          },
          "metadata": {},
          "execution_count": 66
        },
        {
          "output_type": "display_data",
          "data": {
            "text/plain": [
              "<Figure size 432x288 with 1 Axes>"
            ],
            "image/png": "[encoded data removed]"
          },
          "metadata": {
            "needs_background": "light"
          }
        }
      ]
    },
    {
      "cell_type": "code",
      "source": [
        "DESCRICAO_LANCAMENTO = dados['DESCRICAO_LANCAMENTO'].value_counts(normalize=True)*100\n",
        "DESCRICAO_LANCAMENTO"
      ],
      "metadata": {
        "id": "arGJSvh1ShnA"
      },
      "execution_count": null,
      "outputs": []
    },
    {
      "cell_type": "markdown",
      "source": [
        "##Codificação das variáveis categóricas"
      ],
      "metadata": {
        "id": "7e81tLmNLy5y"
      }
    },
    {
      "cell_type": "code",
      "source": [
        "#Transformar a NATUREZA DO LANÇAMENTO em valores binários, onde CRÉDITO é 1 e DÉBITO é 0\n",
        "dados['NATUREZA_LANCAMENTO'] = dados['NATUREZA_LANCAMENTO'].replace('C', 1)\n",
        "dados['NATUREZA_LANCAMENTO'] = dados['NATUREZA_LANCAMENTO'].replace('D', 0)\n",
        "\n",
        "#Transformar a DATA DO LANÇAMENTO em DIA, MÊS e ANO (valores inteiros)\n",
        "dados['DATA_LANCAMENTO'] =  pd.to_datetime(dados['DATA_LANCAMENTO'], format='%d/%m/%Y')\n",
        "dados['ANO_LANCAMENTO'] = dados['DATA_LANCAMENTO'].dt.year\n",
        "dados['MES_LANCAMENTO'] = dados['DATA_LANCAMENTO'].dt.month\n",
        "dados['DIA_LANCAMENTO'] = dados['DATA_LANCAMENTO'].dt.day\n",
        "\n",
        "#Excluir a coluna original\n",
        "dados.drop(['DATA_LANCAMENTO'], axis=1, inplace=True)\n",
        "\n",
        "dados.dtypes"
      ],
      "metadata": {
        "id": "1C-79TgNCXZV",
        "colab": {
          "base_uri": "https://localhost:8080/"
        },
        "outputId": "8393c437-c999-49f3-81b2-5b0bba0d2a50"
      },
      "execution_count": 45,
      "outputs": [
        {
          "output_type": "execute_result",
          "data": {
            "text/plain": [
              "NOME_TITULAR             object\n",
              "DESCRICAO_LANCAMENTO     object\n",
              "CNAB                      int64\n",
              "VALOR_TRANSACAO         float64\n",
              "NATUREZA_LANCAMENTO       int64\n",
              "SMURFING                  int64\n",
              "ANO_LANCAMENTO            int64\n",
              "MES_LANCAMENTO            int64\n",
              "DIA_LANCAMENTO            int64\n",
              "dtype: object"
            ]
          },
          "metadata": {},
          "execution_count": 45
        }
      ]
    },
    {
      "cell_type": "code",
      "metadata": {
        "id": "1w6fIMg-dK9c"
      },
      "source": [
        "#O método get_dummies transforma as varivéis categóricas em colunas de valores binários e deleta a primeira coluna dos valores criados\n",
        "dados = pd.get_dummies(dados,drop_first=True)\n"
      ],
      "execution_count": 46,
      "outputs": []
    },
    {
      "cell_type": "markdown",
      "source": [
        "##Separar as variáveis independentes (X) da variável target, alvo (Y)"
      ],
      "metadata": {
        "id": "wlSo5xyvLQ5x"
      }
    },
    {
      "cell_type": "code",
      "source": [
        "#Isolar a coluna target SMURGING (y) do conjunto de variáveis independentes (X)\n",
        "X1 = dados.iloc[:,0:3]\n",
        "X2 = dados.iloc[:,4:]\n",
        "X = pd.concat([X1,X2],axis=1)\n",
        "X\n",
        "\n",
        "#Alocar a coluna SMURFING no conjunto Y\n",
        "y = dados.iloc[:,3:4] \n",
        "y"
      ],
      "metadata": {
        "id": "dv-TCWEaLPtD",
        "colab": {
          "base_uri": "https://localhost:8080/",
          "height": 424
        },
        "outputId": "2a7dd345-d912-4709-8753-57bdef23bc8f"
      },
      "execution_count": 48,
      "outputs": [
        {
          "output_type": "execute_result",
          "data": {
            "text/plain": [
              "      SMURFING\n",
              "0            1\n",
              "1            1\n",
              "2            0\n",
              "3            0\n",
              "4            0\n",
              "...        ...\n",
              "6894         0\n",
              "6895         0\n",
              "6896         0\n",
              "6897         0\n",
              "6898         0\n",
              "\n",
              "[6899 rows x 1 columns]"
            ],
            "text/html": [
              "\n",
              "  <div id=\"df-06c16a89-a05b-41a7-972f-df20d33aeedb\">\n",
              "    <div class=\"colab-df-container\">\n",
              "      <div>\n",
              "<style scoped>\n",
              "    .dataframe tbody tr th:only-of-type {\n",
              "        vertical-align: middle;\n",
              "    }\n",
              "\n",
              "    .dataframe tbody tr th {\n",
              "        vertical-align: top;\n",
              "    }\n",
              "\n",
              "    .dataframe thead th {\n",
              "        text-align: right;\n",
              "    }\n",
              "</style>\n",
              "<table border=\"1\" class=\"dataframe\">\n",
              "  <thead>\n",
              "    <tr style=\"text-align: right;\">\n",
              "      <th></th>\n",
              "      <th>SMURFING</th>\n",
              "    </tr>\n",
              "  </thead>\n",
              "  <tbody>\n",
              "    <tr>\n",
              "      <th>0</th>\n",
              "      <td>1</td>\n",
              "    </tr>\n",
              "    <tr>\n",
              "      <th>1</th>\n",
              "      <td>1</td>\n",
              "    </tr>\n",
              "    <tr>\n",
              "      <th>2</th>\n",
              "      <td>0</td>\n",
              "    </tr>\n",
              "    <tr>\n",
              "      <th>3</th>\n",
              "      <td>0</td>\n",
              "    </tr>\n",
              "    <tr>\n",
              "      <th>4</th>\n",
              "      <td>0</td>\n",
              "    </tr>\n",
              "    <tr>\n",
              "      <th>...</th>\n",
              "      <td>...</td>\n",
              "    </tr>\n",
              "    <tr>\n",
              "      <th>6894</th>\n",
              "      <td>0</td>\n",
              "    </tr>\n",
              "    <tr>\n",
              "      <th>6895</th>\n",
              "      <td>0</td>\n",
              "    </tr>\n",
              "    <tr>\n",
              "      <th>6896</th>\n",
              "      <td>0</td>\n",
              "    </tr>\n",
              "    <tr>\n",
              "      <th>6897</th>\n",
              "      <td>0</td>\n",
              "    </tr>\n",
              "    <tr>\n",
              "      <th>6898</th>\n",
              "      <td>0</td>\n",
              "    </tr>\n",
              "  </tbody>\n",
              "</table>\n",
              "<p>6899 rows × 1 columns</p>\n",
              "</div>\n",
              "      <button class=\"colab-df-convert\" onclick=\"convertToInteractive('df-06c16a89-a05b-41a7-972f-df20d33aeedb')\"\n",
              "              title=\"Convert this dataframe to an interactive table.\"\n",
              "              style=\"display:none;\">\n",
              "        \n",
              "  <svg xmlns=\"http://www.w3.org/2000/svg\" height=\"24px\"viewBox=\"0 0 24 24\"\n",
              "       width=\"24px\">\n",
              "    <path d=\"M0 0h24v24H0V0z\" fill=\"none\"/>\n",
              "    <path d=\"M18.56 5.44l.94 2.06.94-2.06 2.06-.94-2.06-.94-.94-2.06-.94 2.06-2.06.94zm-11 1L8.5 8.5l.94-2.06 2.06-.94-2.06-.94L8.5 2.5l-.94 2.06-2.06.94zm10 10l.94 2.06.94-2.06 2.06-.94-2.06-.94-.94-2.06-.94 2.06-2.06.94z\"/><path d=\"M17.41 7.96l-1.37-1.37c-.4-.4-.92-.59-1.43-.59-.52 0-1.04.2-1.43.59L10.3 9.45l-7.72 7.72c-.78.78-.78 2.05 0 2.83L4 21.41c.39.39.9.59 1.41.59.51 0 1.02-.2 1.41-.59l7.78-7.78 2.81-2.81c.8-.78.8-2.07 0-2.86zM5.41 20L4 18.59l7.72-7.72 1.47 1.35L5.41 20z\"/>\n",
              "  </svg>\n",
              "      </button>\n",
              "      \n",
              "  <style>\n",
              "    .colab-df-container {\n",
              "      display:flex;\n",
              "      flex-wrap:wrap;\n",
              "      gap: 12px;\n",
              "    }\n",
              "\n",
              "    .colab-df-convert {\n",
              "      background-color: #E8F0FE;\n",
              "      border: none;\n",
              "      border-radius: 50%;\n",
              "      cursor: pointer;\n",
              "      display: none;\n",
              "      fill: #1967D2;\n",
              "      height: 32px;\n",
              "      padding: 0 0 0 0;\n",
              "      width: 32px;\n",
              "    }\n",
              "\n",
              "    .colab-df-convert:hover {\n",
              "      background-color: #E2EBFA;\n",
              "      box-shadow: 0px 1px 2px rgba(60, 64, 67, 0.3), 0px 1px 3px 1px rgba(60, 64, 67, 0.15);\n",
              "      fill: #174EA6;\n",
              "    }\n",
              "\n",
              "    [theme=dark] .colab-df-convert {\n",
              "      background-color: #3B4455;\n",
              "      fill: #D2E3FC;\n",
              "    }\n",
              "\n",
              "    [theme=dark] .colab-df-convert:hover {\n",
              "      background-color: #434B5C;\n",
              "      box-shadow: 0px 1px 3px 1px rgba(0, 0, 0, 0.15);\n",
              "      filter: drop-shadow(0px 1px 2px rgba(0, 0, 0, 0.3));\n",
              "      fill: #FFFFFF;\n",
              "    }\n",
              "  </style>\n",
              "\n",
              "      <script>\n",
              "        const buttonEl =\n",
              "          document.querySelector('#df-06c16a89-a05b-41a7-972f-df20d33aeedb button.colab-df-convert');\n",
              "        buttonEl.style.display =\n",
              "          google.colab.kernel.accessAllowed ? 'block' : 'none';\n",
              "\n",
              "        async function convertToInteractive(key) {\n",
              "          const element = document.querySelector('#df-06c16a89-a05b-41a7-972f-df20d33aeedb');\n",
              "          const dataTable =\n",
              "            await google.colab.kernel.invokeFunction('convertToInteractive',\n",
              "                                                     [key], {});\n",
              "          if (!dataTable) return;\n",
              "\n",
              "          const docLinkHtml = 'Like what you see? Visit the ' +\n",
              "            '<a target=\"_blank\" href=https://colab.research.google.com/notebooks/data_table.ipynb>data table notebook</a>'\n",
              "            + ' to learn more about interactive tables.';\n",
              "          element.innerHTML = '';\n",
              "          dataTable['output_type'] = 'display_data';\n",
              "          await google.colab.output.renderOutput(dataTable, element);\n",
              "          const docLink = document.createElement('div');\n",
              "          docLink.innerHTML = docLinkHtml;\n",
              "          element.appendChild(docLink);\n",
              "        }\n",
              "      </script>\n",
              "    </div>\n",
              "  </div>\n",
              "  "
            ]
          },
          "metadata": {},
          "execution_count": 48
        }
      ]
    },
    {
      "cell_type": "code",
      "source": [
        "X"
      ],
      "metadata": {
        "colab": {
          "base_uri": "https://localhost:8080/",
          "height": 522
        },
        "id": "F6KQVtVSmzCf",
        "outputId": "8f3184cc-99d6-4d08-da0f-1f31227048c1"
      },
      "execution_count": 75,
      "outputs": [
        {
          "output_type": "execute_result",
          "data": {
            "text/plain": [
              "      CNAB  VALOR_TRANSACAO  NATUREZA_LANCAMENTO  ANO_LANCAMENTO  \\\n",
              "0      220          1000.00                    1            2010   \n",
              "1      220          1000.00                    1            2010   \n",
              "2      205           440.73                    1            2010   \n",
              "3      117           440.73                    0            2010   \n",
              "4      205           455.28                    1            2010   \n",
              "...    ...              ...                  ...             ...   \n",
              "6894   206           157.40                    1            2010   \n",
              "6895   106            55.78                    0            2010   \n",
              "6896   206           209.60                    1            2011   \n",
              "6897   106           600.00                    0            2011   \n",
              "6898   206           600.00                    1            2011   \n",
              "\n",
              "      MES_LANCAMENTO  DIA_LANCAMENTO  NOME_TITULAR_CHARLES DA SILVA FARIAS  \\\n",
              "0                  1              11                                     0   \n",
              "1                  1              11                                     0   \n",
              "2                  2               5                                     0   \n",
              "3                  2               5                                     0   \n",
              "4                  3               5                                     0   \n",
              "...              ...             ...                                   ...   \n",
              "6894              12              14                                     0   \n",
              "6895              12              16                                     0   \n",
              "6896               5              16                                     0   \n",
              "6897               5              17                                     0   \n",
              "6898               5              17                                     0   \n",
              "\n",
              "      NOME_TITULAR_CRISTIANE CORDEIRO LEITAO  \\\n",
              "0                                          0   \n",
              "1                                          0   \n",
              "2                                          0   \n",
              "3                                          0   \n",
              "4                                          0   \n",
              "...                                      ...   \n",
              "6894                                       0   \n",
              "6895                                       0   \n",
              "6896                                       0   \n",
              "6897                                       0   \n",
              "6898                                       0   \n",
              "\n",
              "      NOME_TITULAR_DAIANA APARECIDA DIAS  \\\n",
              "0                                      0   \n",
              "1                                      0   \n",
              "2                                      0   \n",
              "3                                      0   \n",
              "4                                      0   \n",
              "...                                  ...   \n",
              "6894                                   0   \n",
              "6895                                   0   \n",
              "6896                                   0   \n",
              "6897                                   0   \n",
              "6898                                   0   \n",
              "\n",
              "      NOME_TITULAR_DANIEL FELIPE PORTO MARAVALHAS  ...  \\\n",
              "0                                               0  ...   \n",
              "1                                               0  ...   \n",
              "2                                               0  ...   \n",
              "3                                               0  ...   \n",
              "4                                               0  ...   \n",
              "...                                           ...  ...   \n",
              "6894                                            0  ...   \n",
              "6895                                            0  ...   \n",
              "6896                                            0  ...   \n",
              "6897                                            0  ...   \n",
              "6898                                            0  ...   \n",
              "\n",
              "      DESCRICAO_LANCAMENTO_TRANSFERENCIA PARA POUPANCA  \\\n",
              "0                                                    0   \n",
              "1                                                    0   \n",
              "2                                                    0   \n",
              "3                                                    0   \n",
              "4                                                    0   \n",
              "...                                                ...   \n",
              "6894                                                 0   \n",
              "6895                                                 0   \n",
              "6896                                                 0   \n",
              "6897                                                 0   \n",
              "6898                                                 0   \n",
              "\n",
              "      DESCRICAO_LANCAMENTO_TRANSFERENCIA PROGRAMADA  \\\n",
              "0                                                 0   \n",
              "1                                                 0   \n",
              "2                                                 0   \n",
              "3                                                 0   \n",
              "4                                                 0   \n",
              "...                                             ...   \n",
              "6894                                              0   \n",
              "6895                                              0   \n",
              "6896                                              0   \n",
              "6897                                              0   \n",
              "6898                                              0   \n",
              "\n",
              "      DESCRICAO_LANCAMENTO_TRANSFERIDO PARA POUPANCA  \\\n",
              "0                                                  0   \n",
              "1                                                  0   \n",
              "2                                                  0   \n",
              "3                                                  0   \n",
              "4                                                  0   \n",
              "...                                              ...   \n",
              "6894                                               0   \n",
              "6895                                               0   \n",
              "6896                                               0   \n",
              "6897                                               0   \n",
              "6898                                               0   \n",
              "\n",
              "      DESCRICAO_LANCAMENTO_TRX EL TEV  DESCRICAO_LANCAMENTO_TV POR ASSINATURA  \\\n",
              "0                                   0                                       0   \n",
              "1                                   0                                       0   \n",
              "2                                   0                                       0   \n",
              "3                                   0                                       0   \n",
              "4                                   0                                       0   \n",
              "...                               ...                                     ...   \n",
              "6894                                0                                       0   \n",
              "6895                                0                                       0   \n",
              "6896                                0                                       0   \n",
              "6897                                0                                       0   \n",
              "6898                                0                                       0   \n",
              "\n",
              "      DESCRICAO_LANCAMENTO_UNB *MAESTRO/RSHOP 07/08  \\\n",
              "0                                                 0   \n",
              "1                                                 0   \n",
              "2                                                 0   \n",
              "3                                                 0   \n",
              "4                                                 0   \n",
              "...                                             ...   \n",
              "6894                                              0   \n",
              "6895                                              0   \n",
              "6896                                              0   \n",
              "6897                                              0   \n",
              "6898                                              0   \n",
              "\n",
              "      DESCRICAO_LANCAMENTO_UNB *MAESTRO/RSHOP 22/05  \\\n",
              "0                                                 0   \n",
              "1                                                 0   \n",
              "2                                                 0   \n",
              "3                                                 0   \n",
              "4                                                 0   \n",
              "...                                             ...   \n",
              "6894                                              0   \n",
              "6895                                              0   \n",
              "6896                                              0   \n",
              "6897                                              0   \n",
              "6898                                              0   \n",
              "\n",
              "      DESCRICAO_LANCAMENTO_UNB *MAESTRO/RSHOP 28/05  \\\n",
              "0                                                 0   \n",
              "1                                                 0   \n",
              "2                                                 0   \n",
              "3                                                 0   \n",
              "4                                                 0   \n",
              "...                                             ...   \n",
              "6894                                              0   \n",
              "6895                                              0   \n",
              "6896                                              0   \n",
              "6897                                              0   \n",
              "6898                                              0   \n",
              "\n",
              "      DESCRICAO_LANCAMENTO_UNB *MAESTRO/RSHOP 31/05  \\\n",
              "0                                                 0   \n",
              "1                                                 0   \n",
              "2                                                 0   \n",
              "3                                                 0   \n",
              "4                                                 0   \n",
              "...                                             ...   \n",
              "6894                                              0   \n",
              "6895                                              0   \n",
              "6896                                              0   \n",
              "6897                                              0   \n",
              "6898                                              0   \n",
              "\n",
              "      DESCRICAO_LANCAMENTO_UNB COMPRA REDESHOP  \n",
              "0                                            0  \n",
              "1                                            0  \n",
              "2                                            0  \n",
              "3                                            0  \n",
              "4                                            0  \n",
              "...                                        ...  \n",
              "6894                                         0  \n",
              "6895                                         0  \n",
              "6896                                         0  \n",
              "6897                                         0  \n",
              "6898                                         0  \n",
              "\n",
              "[6899 rows x 1558 columns]"
            ],
            "text/html": [
              "\n",
              "  <div id=\"df-79414f25-68e5-43ff-9568-ca040325a99a\">\n",
              "    <div class=\"colab-df-container\">\n",
              "      <div>\n",
              "<style scoped>\n",
              "    .dataframe tbody tr th:only-of-type {\n",
              "        vertical-align: middle;\n",
              "    }\n",
              "\n",
              "    .dataframe tbody tr th {\n",
              "        vertical-align: top;\n",
              "    }\n",
              "\n",
              "    .dataframe thead th {\n",
              "        text-align: right;\n",
              "    }\n",
              "</style>\n",
              "<table border=\"1\" class=\"dataframe\">\n",
              "  <thead>\n",
              "    <tr style=\"text-align: right;\">\n",
              "      <th></th>\n",
              "      <th>CNAB</th>\n",
              "      <th>VALOR_TRANSACAO</th>\n",
              "      <th>NATUREZA_LANCAMENTO</th>\n",
              "      <th>ANO_LANCAMENTO</th>\n",
              "      <th>MES_LANCAMENTO</th>\n",
              "      <th>DIA_LANCAMENTO</th>\n",
              "      <th>NOME_TITULAR_CHARLES DA SILVA FARIAS</th>\n",
              "      <th>NOME_TITULAR_CRISTIANE CORDEIRO LEITAO</th>\n",
              "      <th>NOME_TITULAR_DAIANA APARECIDA DIAS</th>\n",
              "      <th>NOME_TITULAR_DANIEL FELIPE PORTO MARAVALHAS</th>\n",
              "      <th>...</th>\n",
              "      <th>DESCRICAO_LANCAMENTO_TRANSFERENCIA PARA POUPANCA</th>\n",
              "      <th>DESCRICAO_LANCAMENTO_TRANSFERENCIA PROGRAMADA</th>\n",
              "      <th>DESCRICAO_LANCAMENTO_TRANSFERIDO PARA POUPANCA</th>\n",
              "      <th>DESCRICAO_LANCAMENTO_TRX EL TEV</th>\n",
              "      <th>DESCRICAO_LANCAMENTO_TV POR ASSINATURA</th>\n",
              "      <th>DESCRICAO_LANCAMENTO_UNB *MAESTRO/RSHOP 07/08</th>\n",
              "      <th>DESCRICAO_LANCAMENTO_UNB *MAESTRO/RSHOP 22/05</th>\n",
              "      <th>DESCRICAO_LANCAMENTO_UNB *MAESTRO/RSHOP 28/05</th>\n",
              "      <th>DESCRICAO_LANCAMENTO_UNB *MAESTRO/RSHOP 31/05</th>\n",
              "      <th>DESCRICAO_LANCAMENTO_UNB COMPRA REDESHOP</th>\n",
              "    </tr>\n",
              "  </thead>\n",
              "  <tbody>\n",
              "    <tr>\n",
              "      <th>0</th>\n",
              "      <td>220</td>\n",
              "      <td>1000.00</td>\n",
              "      <td>1</td>\n",
              "      <td>2010</td>\n",
              "      <td>1</td>\n",
              "      <td>11</td>\n",
              "      <td>0</td>\n",
              "      <td>0</td>\n",
              "      <td>0</td>\n",
              "      <td>0</td>\n",
              "      <td>...</td>\n",
              "      <td>0</td>\n",
              "      <td>0</td>\n",
              "      <td>0</td>\n",
              "      <td>0</td>\n",
              "      <td>0</td>\n",
              "      <td>0</td>\n",
              "      <td>0</td>\n",
              "      <td>0</td>\n",
              "      <td>0</td>\n",
              "      <td>0</td>\n",
              "    </tr>\n",
              "    <tr>\n",
              "      <th>1</th>\n",
              "      <td>220</td>\n",
              "      <td>1000.00</td>\n",
              "      <td>1</td>\n",
              "      <td>2010</td>\n",
              "      <td>1</td>\n",
              "      <td>11</td>\n",
              "      <td>0</td>\n",
              "      <td>0</td>\n",
              "      <td>0</td>\n",
              "      <td>0</td>\n",
              "      <td>...</td>\n",
              "      <td>0</td>\n",
              "      <td>0</td>\n",
              "      <td>0</td>\n",
              "      <td>0</td>\n",
              "      <td>0</td>\n",
              "      <td>0</td>\n",
              "      <td>0</td>\n",
              "      <td>0</td>\n",
              "      <td>0</td>\n",
              "      <td>0</td>\n",
              "    </tr>\n",
              "    <tr>\n",
              "      <th>2</th>\n",
              "      <td>205</td>\n",
              "      <td>440.73</td>\n",
              "      <td>1</td>\n",
              "      <td>2010</td>\n",
              "      <td>2</td>\n",
              "      <td>5</td>\n",
              "      <td>0</td>\n",
              "      <td>0</td>\n",
              "      <td>0</td>\n",
              "      <td>0</td>\n",
              "      <td>...</td>\n",
              "      <td>0</td>\n",
              "      <td>0</td>\n",
              "      <td>0</td>\n",
              "      <td>0</td>\n",
              "      <td>0</td>\n",
              "      <td>0</td>\n",
              "      <td>0</td>\n",
              "      <td>0</td>\n",
              "      <td>0</td>\n",
              "      <td>0</td>\n",
              "    </tr>\n",
              "    <tr>\n",
              "      <th>3</th>\n",
              "      <td>117</td>\n",
              "      <td>440.73</td>\n",
              "      <td>0</td>\n",
              "      <td>2010</td>\n",
              "      <td>2</td>\n",
              "      <td>5</td>\n",
              "      <td>0</td>\n",
              "      <td>0</td>\n",
              "      <td>0</td>\n",
              "      <td>0</td>\n",
              "      <td>...</td>\n",
              "      <td>0</td>\n",
              "      <td>0</td>\n",
              "      <td>0</td>\n",
              "      <td>0</td>\n",
              "      <td>0</td>\n",
              "      <td>0</td>\n",
              "      <td>0</td>\n",
              "      <td>0</td>\n",
              "      <td>0</td>\n",
              "      <td>0</td>\n",
              "    </tr>\n",
              "    <tr>\n",
              "      <th>4</th>\n",
              "      <td>205</td>\n",
              "      <td>455.28</td>\n",
              "      <td>1</td>\n",
              "      <td>2010</td>\n",
              "      <td>3</td>\n",
              "      <td>5</td>\n",
              "      <td>0</td>\n",
              "      <td>0</td>\n",
              "      <td>0</td>\n",
              "      <td>0</td>\n",
              "      <td>...</td>\n",
              "      <td>0</td>\n",
              "      <td>0</td>\n",
              "      <td>0</td>\n",
              "      <td>0</td>\n",
              "      <td>0</td>\n",
              "      <td>0</td>\n",
              "      <td>0</td>\n",
              "      <td>0</td>\n",
              "      <td>0</td>\n",
              "      <td>0</td>\n",
              "    </tr>\n",
              "    <tr>\n",
              "      <th>...</th>\n",
              "      <td>...</td>\n",
              "      <td>...</td>\n",
              "      <td>...</td>\n",
              "      <td>...</td>\n",
              "      <td>...</td>\n",
              "      <td>...</td>\n",
              "      <td>...</td>\n",
              "      <td>...</td>\n",
              "      <td>...</td>\n",
              "      <td>...</td>\n",
              "      <td>...</td>\n",
              "      <td>...</td>\n",
              "      <td>...</td>\n",
              "      <td>...</td>\n",
              "      <td>...</td>\n",
              "      <td>...</td>\n",
              "      <td>...</td>\n",
              "      <td>...</td>\n",
              "      <td>...</td>\n",
              "      <td>...</td>\n",
              "      <td>...</td>\n",
              "    </tr>\n",
              "    <tr>\n",
              "      <th>6894</th>\n",
              "      <td>206</td>\n",
              "      <td>157.40</td>\n",
              "      <td>1</td>\n",
              "      <td>2010</td>\n",
              "      <td>12</td>\n",
              "      <td>14</td>\n",
              "      <td>0</td>\n",
              "      <td>0</td>\n",
              "      <td>0</td>\n",
              "      <td>0</td>\n",
              "      <td>...</td>\n",
              "      <td>0</td>\n",
              "      <td>0</td>\n",
              "      <td>0</td>\n",
              "      <td>0</td>\n",
              "      <td>0</td>\n",
              "      <td>0</td>\n",
              "      <td>0</td>\n",
              "      <td>0</td>\n",
              "      <td>0</td>\n",
              "      <td>0</td>\n",
              "    </tr>\n",
              "    <tr>\n",
              "      <th>6895</th>\n",
              "      <td>106</td>\n",
              "      <td>55.78</td>\n",
              "      <td>0</td>\n",
              "      <td>2010</td>\n",
              "      <td>12</td>\n",
              "      <td>16</td>\n",
              "      <td>0</td>\n",
              "      <td>0</td>\n",
              "      <td>0</td>\n",
              "      <td>0</td>\n",
              "      <td>...</td>\n",
              "      <td>0</td>\n",
              "      <td>0</td>\n",
              "      <td>0</td>\n",
              "      <td>0</td>\n",
              "      <td>0</td>\n",
              "      <td>0</td>\n",
              "      <td>0</td>\n",
              "      <td>0</td>\n",
              "      <td>0</td>\n",
              "      <td>0</td>\n",
              "    </tr>\n",
              "    <tr>\n",
              "      <th>6896</th>\n",
              "      <td>206</td>\n",
              "      <td>209.60</td>\n",
              "      <td>1</td>\n",
              "      <td>2011</td>\n",
              "      <td>5</td>\n",
              "      <td>16</td>\n",
              "      <td>0</td>\n",
              "      <td>0</td>\n",
              "      <td>0</td>\n",
              "      <td>0</td>\n",
              "      <td>...</td>\n",
              "      <td>0</td>\n",
              "      <td>0</td>\n",
              "      <td>0</td>\n",
              "      <td>0</td>\n",
              "      <td>0</td>\n",
              "      <td>0</td>\n",
              "      <td>0</td>\n",
              "      <td>0</td>\n",
              "      <td>0</td>\n",
              "      <td>0</td>\n",
              "    </tr>\n",
              "    <tr>\n",
              "      <th>6897</th>\n",
              "      <td>106</td>\n",
              "      <td>600.00</td>\n",
              "      <td>0</td>\n",
              "      <td>2011</td>\n",
              "      <td>5</td>\n",
              "      <td>17</td>\n",
              "      <td>0</td>\n",
              "      <td>0</td>\n",
              "      <td>0</td>\n",
              "      <td>0</td>\n",
              "      <td>...</td>\n",
              "      <td>0</td>\n",
              "      <td>0</td>\n",
              "      <td>0</td>\n",
              "      <td>0</td>\n",
              "      <td>0</td>\n",
              "      <td>0</td>\n",
              "      <td>0</td>\n",
              "      <td>0</td>\n",
              "      <td>0</td>\n",
              "      <td>0</td>\n",
              "    </tr>\n",
              "    <tr>\n",
              "      <th>6898</th>\n",
              "      <td>206</td>\n",
              "      <td>600.00</td>\n",
              "      <td>1</td>\n",
              "      <td>2011</td>\n",
              "      <td>5</td>\n",
              "      <td>17</td>\n",
              "      <td>0</td>\n",
              "      <td>0</td>\n",
              "      <td>0</td>\n",
              "      <td>0</td>\n",
              "      <td>...</td>\n",
              "      <td>0</td>\n",
              "      <td>0</td>\n",
              "      <td>0</td>\n",
              "      <td>0</td>\n",
              "      <td>0</td>\n",
              "      <td>0</td>\n",
              "      <td>0</td>\n",
              "      <td>0</td>\n",
              "      <td>0</td>\n",
              "      <td>0</td>\n",
              "    </tr>\n",
              "  </tbody>\n",
              "</table>\n",
              "<p>6899 rows × 1558 columns</p>\n",
              "</div>\n",
              "      <button class=\"colab-df-convert\" onclick=\"convertToInteractive('df-79414f25-68e5-43ff-9568-ca040325a99a')\"\n",
              "              title=\"Convert this dataframe to an interactive table.\"\n",
              "              style=\"display:none;\">\n",
              "        \n",
              "  <svg xmlns=\"http://www.w3.org/2000/svg\" height=\"24px\"viewBox=\"0 0 24 24\"\n",
              "       width=\"24px\">\n",
              "    <path d=\"M0 0h24v24H0V0z\" fill=\"none\"/>\n",
              "    <path d=\"M18.56 5.44l.94 2.06.94-2.06 2.06-.94-2.06-.94-.94-2.06-.94 2.06-2.06.94zm-11 1L8.5 8.5l.94-2.06 2.06-.94-2.06-.94L8.5 2.5l-.94 2.06-2.06.94zm10 10l.94 2.06.94-2.06 2.06-.94-2.06-.94-.94-2.06-.94 2.06-2.06.94z\"/><path d=\"M17.41 7.96l-1.37-1.37c-.4-.4-.92-.59-1.43-.59-.52 0-1.04.2-1.43.59L10.3 9.45l-7.72 7.72c-.78.78-.78 2.05 0 2.83L4 21.41c.39.39.9.59 1.41.59.51 0 1.02-.2 1.41-.59l7.78-7.78 2.81-2.81c.8-.78.8-2.07 0-2.86zM5.41 20L4 18.59l7.72-7.72 1.47 1.35L5.41 20z\"/>\n",
              "  </svg>\n",
              "      </button>\n",
              "      \n",
              "  <style>\n",
              "    .colab-df-container {\n",
              "      display:flex;\n",
              "      flex-wrap:wrap;\n",
              "      gap: 12px;\n",
              "    }\n",
              "\n",
              "    .colab-df-convert {\n",
              "      background-color: #E8F0FE;\n",
              "      border: none;\n",
              "      border-radius: 50%;\n",
              "      cursor: pointer;\n",
              "      display: none;\n",
              "      fill: #1967D2;\n",
              "      height: 32px;\n",
              "      padding: 0 0 0 0;\n",
              "      width: 32px;\n",
              "    }\n",
              "\n",
              "    .colab-df-convert:hover {\n",
              "      background-color: #E2EBFA;\n",
              "      box-shadow: 0px 1px 2px rgba(60, 64, 67, 0.3), 0px 1px 3px 1px rgba(60, 64, 67, 0.15);\n",
              "      fill: #174EA6;\n",
              "    }\n",
              "\n",
              "    [theme=dark] .colab-df-convert {\n",
              "      background-color: #3B4455;\n",
              "      fill: #D2E3FC;\n",
              "    }\n",
              "\n",
              "    [theme=dark] .colab-df-convert:hover {\n",
              "      background-color: #434B5C;\n",
              "      box-shadow: 0px 1px 3px 1px rgba(0, 0, 0, 0.15);\n",
              "      filter: drop-shadow(0px 1px 2px rgba(0, 0, 0, 0.3));\n",
              "      fill: #FFFFFF;\n",
              "    }\n",
              "  </style>\n",
              "\n",
              "      <script>\n",
              "        const buttonEl =\n",
              "          document.querySelector('#df-79414f25-68e5-43ff-9568-ca040325a99a button.colab-df-convert');\n",
              "        buttonEl.style.display =\n",
              "          google.colab.kernel.accessAllowed ? 'block' : 'none';\n",
              "\n",
              "        async function convertToInteractive(key) {\n",
              "          const element = document.querySelector('#df-79414f25-68e5-43ff-9568-ca040325a99a');\n",
              "          const dataTable =\n",
              "            await google.colab.kernel.invokeFunction('convertToInteractive',\n",
              "                                                     [key], {});\n",
              "          if (!dataTable) return;\n",
              "\n",
              "          const docLinkHtml = 'Like what you see? Visit the ' +\n",
              "            '<a target=\"_blank\" href=https://colab.research.google.com/notebooks/data_table.ipynb>data table notebook</a>'\n",
              "            + ' to learn more about interactive tables.';\n",
              "          element.innerHTML = '';\n",
              "          dataTable['output_type'] = 'display_data';\n",
              "          await google.colab.output.renderOutput(dataTable, element);\n",
              "          const docLink = document.createElement('div');\n",
              "          docLink.innerHTML = docLinkHtml;\n",
              "          element.appendChild(docLink);\n",
              "        }\n",
              "      </script>\n",
              "    </div>\n",
              "  </div>\n",
              "  "
            ]
          },
          "metadata": {},
          "execution_count": 75
        }
      ]
    },
    {
      "cell_type": "markdown",
      "source": [
        "##Conjunto de treinamento e teste"
      ],
      "metadata": {
        "id": "adHOZlAtKYuE"
      }
    },
    {
      "cell_type": "code",
      "metadata": {
        "id": "uPBIDPjyeKWK"
      },
      "source": [
        "from sklearn.model_selection import train_test_split\n",
        "X_train, X_test, y_train, y_test = train_test_split(X.values, y.values, test_size = 0.2, random_state = 0)"
      ],
      "execution_count": 49,
      "outputs": []
    },
    {
      "cell_type": "code",
      "metadata": {
        "id": "pXStjw-leZX2",
        "colab": {
          "base_uri": "https://localhost:8080/"
        },
        "outputId": "6024e684-0dea-4895-c9ec-fd4d292d38e8"
      },
      "source": [
        "X_train.shape,X_test.shape, y_train.shape, y_test.shape"
      ],
      "execution_count": 50,
      "outputs": [
        {
          "output_type": "execute_result",
          "data": {
            "text/plain": [
              "((5519, 1558), (1380, 1558), (5519, 1), (1380, 1))"
            ]
          },
          "metadata": {},
          "execution_count": 50
        }
      ]
    },
    {
      "cell_type": "markdown",
      "source": [
        "##Normalização das variáveis"
      ],
      "metadata": {
        "id": "mqrefXflKet4"
      }
    },
    {
      "cell_type": "code",
      "metadata": {
        "id": "OersZ1Rset3B"
      },
      "source": [
        "#Escalar as variáveis\n",
        "\n",
        "from sklearn.preprocessing import StandardScaler\n",
        "sc = StandardScaler()\n",
        "X_train = sc.fit_transform(X_train)\n",
        "X_test = sc.transform(X_test)"
      ],
      "execution_count": 51,
      "outputs": []
    },
    {
      "cell_type": "markdown",
      "source": [
        "##Modelos de classificação"
      ],
      "metadata": {
        "id": "Bf9_m7__K-tI"
      }
    },
    {
      "cell_type": "markdown",
      "metadata": {
        "id": "9QAUjWA-fXic"
      },
      "source": [
        "### **Logistic Regression**"
      ]
    },
    {
      "cell_type": "code",
      "metadata": {
        "id": "U4eRQNFefdCB"
      },
      "source": [
        "from sklearn.linear_model import LogisticRegression\n",
        "\n",
        "modelo_log = LogisticRegression(random_state = 0)\n",
        "modelo_log.fit(X_train,y_train)\n",
        "y_pred_log = modelo_log.predict(X_test)"
      ],
      "execution_count": null,
      "outputs": []
    },
    {
      "cell_type": "markdown",
      "metadata": {
        "id": "l0P6OcwkfzI5"
      },
      "source": [
        "### **SVM**"
      ]
    },
    {
      "cell_type": "code",
      "metadata": {
        "id": "wpV4Iolrfybn"
      },
      "source": [
        "from sklearn.svm import SVC\n",
        "modelo_svm = SVC(kernel='linear', random_state = 0)# rbf , polinomial\n",
        "modelo_svm.fit(X_train,y_train)\n",
        "y_pred_svm = modelo_svm.predict(X_test)"
      ],
      "execution_count": null,
      "outputs": []
    },
    {
      "cell_type": "markdown",
      "metadata": {
        "id": "ByIplkCPgzpG"
      },
      "source": [
        "### **Random Forest Classifier**"
      ]
    },
    {
      "cell_type": "code",
      "metadata": {
        "id": "gH4MyLgRg-_N"
      },
      "source": [
        "from sklearn.ensemble import RandomForestClassifier\n",
        "modelo_rf = RandomForestClassifier(n_estimators = 10, random_state = 0)\n",
        "modelo_rf.fit(X_train,y_train)\n",
        "y_pred_rf = modelo_rf.predict(X_test)"
      ],
      "execution_count": null,
      "outputs": []
    },
    {
      "cell_type": "markdown",
      "metadata": {
        "id": "laHzt47MhR6w"
      },
      "source": [
        "### **KNN**"
      ]
    },
    {
      "cell_type": "code",
      "metadata": {
        "id": "DF-MQXGwhWEw"
      },
      "source": [
        "from sklearn.neighbors import KNeighborsClassifier\n",
        "modelo_knn = KNeighborsClassifier(n_neighbors = 3)\n",
        "modelo_knn.fit(X_train,y_train)\n",
        "y_pred_knn = modelo_knn.predict(X_test)"
      ],
      "execution_count": null,
      "outputs": []
    },
    {
      "cell_type": "markdown",
      "metadata": {
        "id": "Qv24sxs6iSQB"
      },
      "source": [
        "##Avaliação dos modelos"
      ]
    },
    {
      "cell_type": "markdown",
      "metadata": {
        "id": "2J7AGTsllwg6"
      },
      "source": [
        "#### **Matriz de Confusão**"
      ]
    },
    {
      "cell_type": "code",
      "metadata": {
        "id": "IK3h5OF5iWTI"
      },
      "source": [
        "from sklearn.metrics import confusion_matrix\n",
        "\n",
        "cm_log = confusion_matrix(y_test,y_pred_log)\n",
        "cm_svm = confusion_matrix(y_test,y_pred_svm)\n",
        "cm_rf = confusion_matrix(y_test,y_pred_rf)\n",
        "cm_knn = confusion_matrix(y_test,y_pred_knn)\n"
      ],
      "execution_count": 56,
      "outputs": []
    },
    {
      "cell_type": "code",
      "source": [
        "cm_log"
      ],
      "metadata": {
        "id": "Luds_XeF4yk6",
        "colab": {
          "base_uri": "https://localhost:8080/"
        },
        "outputId": "15e3b5d2-d0a4-400e-cd43-6d2e771200bf"
      },
      "execution_count": 57,
      "outputs": [
        {
          "output_type": "execute_result",
          "data": {
            "text/plain": [
              "array([[1281,   12],\n",
              "       [  15,   72]])"
            ]
          },
          "metadata": {},
          "execution_count": 57
        }
      ]
    },
    {
      "cell_type": "code",
      "metadata": {
        "id": "rez2Zv7omaDr",
        "colab": {
          "base_uri": "https://localhost:8080/"
        },
        "outputId": "0c9bd72b-f22a-40b6-d1a7-94a6caca4a59"
      },
      "source": [
        "cm_log"
      ],
      "execution_count": 58,
      "outputs": [
        {
          "output_type": "execute_result",
          "data": {
            "text/plain": [
              "array([[1281,   12],\n",
              "       [  15,   72]])"
            ]
          },
          "metadata": {},
          "execution_count": 58
        }
      ]
    },
    {
      "cell_type": "code",
      "metadata": {
        "id": "UrBI5ED7mibO",
        "colab": {
          "base_uri": "https://localhost:8080/"
        },
        "outputId": "d37bb508-6a04-498c-f717-728c1ebdd772"
      },
      "source": [
        "cm_svm"
      ],
      "execution_count": 76,
      "outputs": [
        {
          "output_type": "execute_result",
          "data": {
            "text/plain": [
              "array([[1274,   19],\n",
              "       [   2,   85]])"
            ]
          },
          "metadata": {},
          "execution_count": 76
        }
      ]
    },
    {
      "cell_type": "code",
      "metadata": {
        "id": "cOzrjq9mmpoz",
        "colab": {
          "base_uri": "https://localhost:8080/"
        },
        "outputId": "92fc1415-1df4-49bf-96a8-f5de1c214837"
      },
      "source": [
        "cm_rf"
      ],
      "execution_count": 77,
      "outputs": [
        {
          "output_type": "execute_result",
          "data": {
            "text/plain": [
              "array([[1292,    1],\n",
              "       [   0,   87]])"
            ]
          },
          "metadata": {},
          "execution_count": 77
        }
      ]
    },
    {
      "cell_type": "code",
      "metadata": {
        "id": "sjd2RmcumwMp",
        "colab": {
          "base_uri": "https://localhost:8080/"
        },
        "outputId": "f9686bb5-bdaa-4971-add6-04c00a811af3"
      },
      "source": [
        "cm_knn"
      ],
      "execution_count": 78,
      "outputs": [
        {
          "output_type": "execute_result",
          "data": {
            "text/plain": [
              "array([[1283,   10],\n",
              "       [  18,   69]])"
            ]
          },
          "metadata": {},
          "execution_count": 78
        }
      ]
    },
    {
      "cell_type": "markdown",
      "source": [
        "###Métricas: Classification Report (Recall, Precision, F1-Score, Acc)"
      ],
      "metadata": {
        "id": "v_lckS24PKbR"
      }
    },
    {
      "cell_type": "code",
      "source": [
        "from sklearn.metrics import classification_report\n",
        "\n",
        "classes = ['Classe 0', 'Classe 1']\n",
        "\n",
        "print('Random Forest:')\n",
        "print(classification_report(y_pred_rf, y_test, target_names=classes))"
      ],
      "metadata": {
        "id": "4mzhVHSQIMK_",
        "colab": {
          "base_uri": "https://localhost:8080/"
        },
        "outputId": "452a657a-ed0d-453c-a627-e4cffd17fbb9"
      },
      "execution_count": 59,
      "outputs": [
        {
          "output_type": "stream",
          "name": "stdout",
          "text": [
            "Random Forest:\n",
            "              precision    recall  f1-score   support\n",
            "\n",
            "    Classe 0       1.00      1.00      1.00      1292\n",
            "    Classe 1       1.00      0.99      0.99        88\n",
            "\n",
            "    accuracy                           1.00      1380\n",
            "   macro avg       1.00      0.99      1.00      1380\n",
            "weighted avg       1.00      1.00      1.00      1380\n",
            "\n"
          ]
        }
      ]
    },
    {
      "cell_type": "code",
      "source": [
        "print('KNN:')\n",
        "print(classification_report(y_pred_knn, y_test, target_names=classes))"
      ],
      "metadata": {
        "id": "UqS8BkeXJLUi",
        "colab": {
          "base_uri": "https://localhost:8080/"
        },
        "outputId": "f3106c1f-3051-43ca-cc64-9b16a790c09f"
      },
      "execution_count": 60,
      "outputs": [
        {
          "output_type": "stream",
          "name": "stdout",
          "text": [
            "KNN:\n",
            "              precision    recall  f1-score   support\n",
            "\n",
            "    Classe 0       0.99      0.99      0.99      1301\n",
            "    Classe 1       0.79      0.87      0.83        79\n",
            "\n",
            "    accuracy                           0.98      1380\n",
            "   macro avg       0.89      0.93      0.91      1380\n",
            "weighted avg       0.98      0.98      0.98      1380\n",
            "\n"
          ]
        }
      ]
    },
    {
      "cell_type": "code",
      "source": [
        "print('Logistic Regression:')\n",
        "print(classification_report(y_pred_log, y_test, target_names=classes))"
      ],
      "metadata": {
        "id": "SQ0XlbnMJPVQ",
        "colab": {
          "base_uri": "https://localhost:8080/"
        },
        "outputId": "3b8368af-68dd-4f5c-956c-1ace041cb8a2"
      },
      "execution_count": 79,
      "outputs": [
        {
          "output_type": "stream",
          "name": "stdout",
          "text": [
            "Logistic Regression:\n",
            "              precision    recall  f1-score   support\n",
            "\n",
            "    Classe 0       0.99      0.99      0.99      1296\n",
            "    Classe 1       0.83      0.86      0.84        84\n",
            "\n",
            "    accuracy                           0.98      1380\n",
            "   macro avg       0.91      0.92      0.92      1380\n",
            "weighted avg       0.98      0.98      0.98      1380\n",
            "\n"
          ]
        }
      ]
    },
    {
      "cell_type": "code",
      "source": [
        "print('SVM:')\n",
        "print(classification_report(y_pred_svm, y_test, target_names=classes))"
      ],
      "metadata": {
        "id": "RPOtnmSTJT-6",
        "colab": {
          "base_uri": "https://localhost:8080/"
        },
        "outputId": "4a2d5ed5-0c9a-4959-8059-5a33c57be6d2"
      },
      "execution_count": 80,
      "outputs": [
        {
          "output_type": "stream",
          "name": "stdout",
          "text": [
            "SVM:\n",
            "              precision    recall  f1-score   support\n",
            "\n",
            "    Classe 0       0.99      1.00      0.99      1276\n",
            "    Classe 1       0.98      0.82      0.89       104\n",
            "\n",
            "    accuracy                           0.98      1380\n",
            "   macro avg       0.98      0.91      0.94      1380\n",
            "weighted avg       0.98      0.98      0.98      1380\n",
            "\n"
          ]
        }
      ]
    },
    {
      "cell_type": "markdown",
      "source": [
        "####F1 Score"
      ],
      "metadata": {
        "id": "ojqEw6MrH9VC"
      }
    },
    {
      "cell_type": "code",
      "source": [
        "from sklearn.metrics import f1_score\n",
        "f1_log = f1_score(y_test,y_pred_log)\n",
        "f1_svm = f1_score(y_test,y_pred_svm)  \n",
        "f1_rf = f1_score(y_test,y_pred_rf) \n",
        "f1_knn = f1_score(y_test,y_pred_knn) "
      ],
      "metadata": {
        "id": "noXYKaSIFsUK"
      },
      "execution_count": 61,
      "outputs": []
    },
    {
      "cell_type": "code",
      "source": [
        "print('F1 Logistic Regression: ', f1_log)\n",
        "print('F1 SVM: ', f1_svm)\n",
        "print('F1 Random Fortest: ', f1_rf)\n",
        "print('F1 Knn: ', f1_knn)\n"
      ],
      "metadata": {
        "id": "AoXbuPhTGGNe",
        "colab": {
          "base_uri": "https://localhost:8080/"
        },
        "outputId": "d11ecd86-3fa0-4d10-be1e-eb0040e56f98"
      },
      "execution_count": 62,
      "outputs": [
        {
          "output_type": "stream",
          "name": "stdout",
          "text": [
            "F1 Logistic Regression:  0.8421052631578947\n",
            "F1 SVM:  0.8900523560209425\n",
            "F1 Random Fortest:  0.9942857142857142\n",
            "F1 Knn:  0.8313253012048193\n"
          ]
        }
      ]
    },
    {
      "cell_type": "markdown",
      "source": [
        "####Accuracy"
      ],
      "metadata": {
        "id": "C1tbcdjjH6mT"
      }
    },
    {
      "cell_type": "code",
      "metadata": {
        "id": "q5gjw3XQi4ep"
      },
      "source": [
        "acc_log = (cm_log[0,0]+cm_log[1,1])/cm_log.sum()\n",
        "acc_svm = (cm_svm[0,0]+cm_svm[1,1])/cm_svm.sum()\n",
        "acc_rf = (cm_rf[0,0]+cm_rf[1,1])/cm_rf.sum()\n",
        "acc_knn = (cm_knn[0,0]+cm_knn[1,1])/cm_knn.sum()"
      ],
      "execution_count": 63,
      "outputs": []
    },
    {
      "cell_type": "code",
      "metadata": {
        "id": "Zg9cSXpqkTPc",
        "colab": {
          "base_uri": "https://localhost:8080/"
        },
        "outputId": "5668489b-e52e-493c-f31f-a7d36c243fa2"
      },
      "source": [
        "print('ACC Logistic Regression: ', acc_log)\n",
        "print('ACC SVM: ', acc_svm)\n",
        "print('ACC Random Fortest: ', acc_rf)\n",
        "print('ACC Knn: ', acc_knn)\n"
      ],
      "execution_count": 64,
      "outputs": [
        {
          "output_type": "stream",
          "name": "stdout",
          "text": [
            "ACC Logistic Regression:  0.9804347826086957\n",
            "ACC SVM:  0.9847826086956522\n",
            "ACC Random Fortest:  0.9992753623188406\n",
            "ACC Knn:  0.9797101449275363\n"
          ]
        }
      ]
    }
  ]
}