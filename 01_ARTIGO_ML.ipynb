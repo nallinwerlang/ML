{
  "nbformat": 4,
  "nbformat_minor": 0,
  "metadata": {
    "colab": {
      "provenance": [],
      "include_colab_link": true
    },
    "kernelspec": {
      "name": "python3",
      "display_name": "Python 3"
    },
    "language_info": {
      "name": "python"
    }
  },
  "cells": [
    {
      "cell_type": "markdown",
      "metadata": {
        "id": "view-in-github",
        "colab_type": "text"
      },
      "source": [
        "<a href=\"https://colab.research.google.com/github/nallinwerlang/ML/blob/main/01_ARTIGO_ML.ipynb\" target=\"_parent\"><img src=\"https://colab.research.google.com/assets/colab-badge.svg\" alt=\"Open In Colab\"/></a>"
      ]
    },
    {
      "cell_type": "markdown",
      "source": [
        "#DETECÇÃO DE SMURFING"
      ],
      "metadata": {
        "id": "ONOnYGvGTTgg"
      }
    },
    {
      "cell_type": "markdown",
      "metadata": {
        "id": "aDJ9zKvEb59H"
      },
      "source": [
        "## Pré-processamento (ETL Process - Load Data)"
      ]
    },
    {
      "cell_type": "code",
      "source": [
        "from google.colab import drive\n",
        "drive.mount('/content/drive')"
      ],
      "metadata": {
        "colab": {
          "base_uri": "https://localhost:8080/"
        },
        "id": "zoRTOxEFBdch",
        "outputId": "2f77a8a5-08e6-4013-e55c-a01a3da4c120"
      },
      "execution_count": 4,
      "outputs": [
        {
          "output_type": "stream",
          "name": "stdout",
          "text": [
            "Mounted at /content/drive\n"
          ]
        }
      ]
    },
    {
      "cell_type": "code",
      "metadata": {
        "colab": {
          "base_uri": "https://localhost:8080/",
          "height": 206
        },
        "id": "s7j3vRdOWX4m",
        "outputId": "fae18ee5-2bf5-4384-f5ad-db91bfd36c69"
      },
      "source": [
        "import pandas as pd\n",
        "dados = pd.read_csv(\"/content/drive/MyDrive/ufsc/ML/Artigo/EXTRATO_DETALHADO_ALT.csv\", delimiter= ';')\n",
        "dados.head()\n"
      ],
      "execution_count": 5,
      "outputs": [
        {
          "output_type": "execute_result",
          "data": {
            "text/plain": [
              "            NOME_TITULAR           DESCRICAO_LANCAMENTO  CNAB DATA_LANCAMENTO  \\\n",
              "0  ANDREZA RAMOS DA ROSA  DEPOSITO EM DINHEIRO NO CAIXA   220      11/01/2010   \n",
              "1  ANDREZA RAMOS DA ROSA  DEPOSITO EM DINHEIRO NO CAIXA   220      11/01/2010   \n",
              "2  ANDREZA RAMOS DA ROSA             CREDITO DE SALARIO   205      05/02/2010   \n",
              "3  ANDREZA RAMOS DA ROSA       TRANSF SALDO C/SAL P/ CC   117      05/02/2010   \n",
              "4  ANDREZA RAMOS DA ROSA             CREDITO DE SALARIO   205      05/03/2010   \n",
              "\n",
              "  VALOR_TRANSACAO NATUREZA_LANCAMENTO  SMURFING  \n",
              "0        1.000,00                   C         1  \n",
              "1        1.000,00                   C         1  \n",
              "2          440,73                   C         0  \n",
              "3          440,73                   D         0  \n",
              "4          455,28                   C         0  "
            ],
            "text/html": [
              "\n",
              "  <div id=\"df-b7b6a4f9-5453-4546-8936-a3d0350e753c\">\n",
              "    <div class=\"colab-df-container\">\n",
              "      <div>\n",
              "<style scoped>\n",
              "    .dataframe tbody tr th:only-of-type {\n",
              "        vertical-align: middle;\n",
              "    }\n",
              "\n",
              "    .dataframe tbody tr th {\n",
              "        vertical-align: top;\n",
              "    }\n",
              "\n",
              "    .dataframe thead th {\n",
              "        text-align: right;\n",
              "    }\n",
              "</style>\n",
              "<table border=\"1\" class=\"dataframe\">\n",
              "  <thead>\n",
              "    <tr style=\"text-align: right;\">\n",
              "      <th></th>\n",
              "      <th>NOME_TITULAR</th>\n",
              "      <th>DESCRICAO_LANCAMENTO</th>\n",
              "      <th>CNAB</th>\n",
              "      <th>DATA_LANCAMENTO</th>\n",
              "      <th>VALOR_TRANSACAO</th>\n",
              "      <th>NATUREZA_LANCAMENTO</th>\n",
              "      <th>SMURFING</th>\n",
              "    </tr>\n",
              "  </thead>\n",
              "  <tbody>\n",
              "    <tr>\n",
              "      <th>0</th>\n",
              "      <td>ANDREZA RAMOS DA ROSA</td>\n",
              "      <td>DEPOSITO EM DINHEIRO NO CAIXA</td>\n",
              "      <td>220</td>\n",
              "      <td>11/01/2010</td>\n",
              "      <td>1.000,00</td>\n",
              "      <td>C</td>\n",
              "      <td>1</td>\n",
              "    </tr>\n",
              "    <tr>\n",
              "      <th>1</th>\n",
              "      <td>ANDREZA RAMOS DA ROSA</td>\n",
              "      <td>DEPOSITO EM DINHEIRO NO CAIXA</td>\n",
              "      <td>220</td>\n",
              "      <td>11/01/2010</td>\n",
              "      <td>1.000,00</td>\n",
              "      <td>C</td>\n",
              "      <td>1</td>\n",
              "    </tr>\n",
              "    <tr>\n",
              "      <th>2</th>\n",
              "      <td>ANDREZA RAMOS DA ROSA</td>\n",
              "      <td>CREDITO DE SALARIO</td>\n",
              "      <td>205</td>\n",
              "      <td>05/02/2010</td>\n",
              "      <td>440,73</td>\n",
              "      <td>C</td>\n",
              "      <td>0</td>\n",
              "    </tr>\n",
              "    <tr>\n",
              "      <th>3</th>\n",
              "      <td>ANDREZA RAMOS DA ROSA</td>\n",
              "      <td>TRANSF SALDO C/SAL P/ CC</td>\n",
              "      <td>117</td>\n",
              "      <td>05/02/2010</td>\n",
              "      <td>440,73</td>\n",
              "      <td>D</td>\n",
              "      <td>0</td>\n",
              "    </tr>\n",
              "    <tr>\n",
              "      <th>4</th>\n",
              "      <td>ANDREZA RAMOS DA ROSA</td>\n",
              "      <td>CREDITO DE SALARIO</td>\n",
              "      <td>205</td>\n",
              "      <td>05/03/2010</td>\n",
              "      <td>455,28</td>\n",
              "      <td>C</td>\n",
              "      <td>0</td>\n",
              "    </tr>\n",
              "  </tbody>\n",
              "</table>\n",
              "</div>\n",
              "      <button class=\"colab-df-convert\" onclick=\"convertToInteractive('df-b7b6a4f9-5453-4546-8936-a3d0350e753c')\"\n",
              "              title=\"Convert this dataframe to an interactive table.\"\n",
              "              style=\"display:none;\">\n",
              "        \n",
              "  <svg xmlns=\"http://www.w3.org/2000/svg\" height=\"24px\"viewBox=\"0 0 24 24\"\n",
              "       width=\"24px\">\n",
              "    <path d=\"M0 0h24v24H0V0z\" fill=\"none\"/>\n",
              "    <path d=\"M18.56 5.44l.94 2.06.94-2.06 2.06-.94-2.06-.94-.94-2.06-.94 2.06-2.06.94zm-11 1L8.5 8.5l.94-2.06 2.06-.94-2.06-.94L8.5 2.5l-.94 2.06-2.06.94zm10 10l.94 2.06.94-2.06 2.06-.94-2.06-.94-.94-2.06-.94 2.06-2.06.94z\"/><path d=\"M17.41 7.96l-1.37-1.37c-.4-.4-.92-.59-1.43-.59-.52 0-1.04.2-1.43.59L10.3 9.45l-7.72 7.72c-.78.78-.78 2.05 0 2.83L4 21.41c.39.39.9.59 1.41.59.51 0 1.02-.2 1.41-.59l7.78-7.78 2.81-2.81c.8-.78.8-2.07 0-2.86zM5.41 20L4 18.59l7.72-7.72 1.47 1.35L5.41 20z\"/>\n",
              "  </svg>\n",
              "      </button>\n",
              "      \n",
              "  <style>\n",
              "    .colab-df-container {\n",
              "      display:flex;\n",
              "      flex-wrap:wrap;\n",
              "      gap: 12px;\n",
              "    }\n",
              "\n",
              "    .colab-df-convert {\n",
              "      background-color: #E8F0FE;\n",
              "      border: none;\n",
              "      border-radius: 50%;\n",
              "      cursor: pointer;\n",
              "      display: none;\n",
              "      fill: #1967D2;\n",
              "      height: 32px;\n",
              "      padding: 0 0 0 0;\n",
              "      width: 32px;\n",
              "    }\n",
              "\n",
              "    .colab-df-convert:hover {\n",
              "      background-color: #E2EBFA;\n",
              "      box-shadow: 0px 1px 2px rgba(60, 64, 67, 0.3), 0px 1px 3px 1px rgba(60, 64, 67, 0.15);\n",
              "      fill: #174EA6;\n",
              "    }\n",
              "\n",
              "    [theme=dark] .colab-df-convert {\n",
              "      background-color: #3B4455;\n",
              "      fill: #D2E3FC;\n",
              "    }\n",
              "\n",
              "    [theme=dark] .colab-df-convert:hover {\n",
              "      background-color: #434B5C;\n",
              "      box-shadow: 0px 1px 3px 1px rgba(0, 0, 0, 0.15);\n",
              "      filter: drop-shadow(0px 1px 2px rgba(0, 0, 0, 0.3));\n",
              "      fill: #FFFFFF;\n",
              "    }\n",
              "  </style>\n",
              "\n",
              "      <script>\n",
              "        const buttonEl =\n",
              "          document.querySelector('#df-b7b6a4f9-5453-4546-8936-a3d0350e753c button.colab-df-convert');\n",
              "        buttonEl.style.display =\n",
              "          google.colab.kernel.accessAllowed ? 'block' : 'none';\n",
              "\n",
              "        async function convertToInteractive(key) {\n",
              "          const element = document.querySelector('#df-b7b6a4f9-5453-4546-8936-a3d0350e753c');\n",
              "          const dataTable =\n",
              "            await google.colab.kernel.invokeFunction('convertToInteractive',\n",
              "                                                     [key], {});\n",
              "          if (!dataTable) return;\n",
              "\n",
              "          const docLinkHtml = 'Like what you see? Visit the ' +\n",
              "            '<a target=\"_blank\" href=https://colab.research.google.com/notebooks/data_table.ipynb>data table notebook</a>'\n",
              "            + ' to learn more about interactive tables.';\n",
              "          element.innerHTML = '';\n",
              "          dataTable['output_type'] = 'display_data';\n",
              "          await google.colab.output.renderOutput(dataTable, element);\n",
              "          const docLink = document.createElement('div');\n",
              "          docLink.innerHTML = docLinkHtml;\n",
              "          element.appendChild(docLink);\n",
              "        }\n",
              "      </script>\n",
              "    </div>\n",
              "  </div>\n",
              "  "
            ]
          },
          "metadata": {},
          "execution_count": 5
        }
      ]
    },
    {
      "cell_type": "markdown",
      "source": [
        "##Análise do conjunto de dados"
      ],
      "metadata": {
        "id": "E_SeAz-iTXJL"
      }
    },
    {
      "cell_type": "code",
      "source": [
        "NATUREZA_LANCAMENTO = dados['NATUREZA_LANCAMENTO'].value_counts()\n",
        "NATUREZA_LANCAMENTO"
      ],
      "metadata": {
        "id": "QzB1idJVR5sH",
        "colab": {
          "base_uri": "https://localhost:8080/"
        },
        "outputId": "0dae43c8-d427-4f9a-96a4-4aa6a1c045fa"
      },
      "execution_count": 7,
      "outputs": [
        {
          "output_type": "execute_result",
          "data": {
            "text/plain": [
              "D    4218\n",
              "C    2681\n",
              "Name: NATUREZA_LANCAMENTO, dtype: int64"
            ]
          },
          "metadata": {},
          "execution_count": 7
        }
      ]
    },
    {
      "cell_type": "code",
      "source": [
        "import matplotlib.pyplot as plt\n",
        "\n",
        "NATUREZA_LANCAMENTO.plot.bar(color=['red', 'blue'], ec='k', alpha=0.6)\n",
        "plt.title('Proporção entre transações a crédito e débito')\n",
        "plt.xticks(rotation = 360, fontsize=12)\n",
        "plt.yticks(fontsize=12)\n",
        "plt.xlabel('Descrição do Lançamento', fontsize=13)\n",
        "plt.ylabel('Porcentagem (%)', fontsize=13)"
      ],
      "metadata": {
        "id": "J9oxTHaYUPQP",
        "colab": {
          "base_uri": "https://localhost:8080/",
          "height": 318
        },
        "outputId": "1cf261c2-fbb5-43a3-f5f9-f21567fc9365"
      },
      "execution_count": 91,
      "outputs": [
        {
          "output_type": "execute_result",
          "data": {
            "text/plain": [
              "Text(0, 0.5, 'Porcentagem (%)')"
            ]
          },
          "metadata": {},
          "execution_count": 91
        },
        {
          "output_type": "display_data",
          "data": {
            "text/plain": [
              "<Figure size 432x288 with 1 Axes>"
            ],
            "image/png": "[encoded data removed]"
          },
          "metadata": {
            "needs_background": "light"
          }
        }
      ]
    },
    {
      "cell_type": "code",
      "source": [
        "CNAB = dados['CNAB'].value_counts(normalize=True)*100\n",
        "CNAB"
      ],
      "metadata": {
        "id": "1YqFsepdSVwi"
      },
      "execution_count": null,
      "outputs": []
    },
    {
      "cell_type": "code",
      "source": [
        "SMURFING = dados['SMURFING'].value_counts()\n",
        "SMURFING"
      ],
      "metadata": {
        "colab": {
          "base_uri": "https://localhost:8080/"
        },
        "id": "nILW9-ZXmEDx",
        "outputId": "afde2534-43e3-4037-f154-4f323cca9284"
      },
      "execution_count": 93,
      "outputs": [
        {
          "output_type": "execute_result",
          "data": {
            "text/plain": [
              "0    6471\n",
              "1     428\n",
              "Name: SMURFING, dtype: int64"
            ]
          },
          "metadata": {},
          "execution_count": 93
        }
      ]
    },
    {
      "cell_type": "code",
      "source": [
        "SMURFING = dados['SMURFING'].value_counts(normalize=True)*100\n",
        "\n",
        "SMURFING.plot.bar(color=['blue', 'red'], ec='k', alpha=0.6)\n",
        "plt.title('Proporção de transações fraudulentas')\n",
        "plt.xticks(rotation = 360, fontsize=12)\n",
        "plt.yticks(fontsize=12)\n",
        "plt.xlabel('Fraude', fontsize=13)\n",
        "plt.ylabel('Porcentagem (%)', fontsize=13)"
      ],
      "metadata": {
        "id": "xYPBSpg3S_3k",
        "colab": {
          "base_uri": "https://localhost:8080/",
          "height": 318
        },
        "outputId": "a3b87007-fb4e-4886-b88a-4c9e6e175aab"
      },
      "execution_count": 94,
      "outputs": [
        {
          "output_type": "execute_result",
          "data": {
            "text/plain": [
              "Text(0, 0.5, 'Porcentagem (%)')"
            ]
          },
          "metadata": {},
          "execution_count": 94
        },
        {
          "output_type": "display_data",
          "data": {
            "text/plain": [
              "<Figure size 432x288 with 1 Axes>"
            ],
            "image/png": "[encoded data removed]"
          },
          "metadata": {
            "needs_background": "light"
          }
        }
      ]
    },
    {
      "cell_type": "code",
      "source": [
        "DESCRICAO_LANCAMENTO = dados['DESCRICAO_LANCAMENTO'].value_counts()\n",
        "DESCRICAO_LANCAMENTO"
      ],
      "metadata": {
        "id": "arGJSvh1ShnA",
        "colab": {
          "base_uri": "https://localhost:8080/"
        },
        "outputId": "3722beee-de9e-4b51-98ba-b50fe0c9d626"
      },
      "execution_count": 6,
      "outputs": [
        {
          "output_type": "execute_result",
          "data": {
            "text/plain": [
              "ESTORNO DE DEBITO           427\n",
              "CARTAO VISA ELECTRON        347\n",
              "PAGTO PREMIO SEGURO         346\n",
              "RES APLIC AUT MAIS          259\n",
              "CP MAESTRO                  256\n",
              "                           ... \n",
              "PGTO ITAU 110                 1\n",
              "PGTO ITAU 109080711           1\n",
              "PGTO ITAU 109                 1\n",
              "PGTO ITAU 108080711           1\n",
              "TBI 7858.02549-20289 mal      1\n",
              "Name: DESCRICAO_LANCAMENTO, Length: 1534, dtype: int64"
            ]
          },
          "metadata": {},
          "execution_count": 6
        }
      ]
    },
    {
      "cell_type": "markdown",
      "source": [
        "##Codificação das variáveis categóricas"
      ],
      "metadata": {
        "id": "7e81tLmNLy5y"
      }
    },
    {
      "cell_type": "code",
      "source": [
        "#Transformar a NATUREZA DO LANÇAMENTO em valores binários, onde CRÉDITO é 1 e DÉBITO é 0\n",
        "dados['NATUREZA_LANCAMENTO'] = dados['NATUREZA_LANCAMENTO'].replace('C', 1)\n",
        "dados['NATUREZA_LANCAMENTO'] = dados['NATUREZA_LANCAMENTO'].replace('D', 0)\n",
        "\n",
        "#Transformar a DATA DO LANÇAMENTO em DIA, MÊS e ANO (valores inteiros)\n",
        "dados['DATA_LANCAMENTO'] =  pd.to_datetime(dados['DATA_LANCAMENTO'], format='%d/%m/%Y')\n",
        "dados['ANO_LANCAMENTO'] = dados['DATA_LANCAMENTO'].dt.year\n",
        "dados['MES_LANCAMENTO'] = dados['DATA_LANCAMENTO'].dt.month\n",
        "dados['DIA_LANCAMENTO'] = dados['DATA_LANCAMENTO'].dt.day\n",
        "\n",
        "#Para valores como 1.200,42 serão convertidos para 1000.42 como float.\n",
        "dados['VALOR_TRANSACAO'] = [float(str(i).replace(\",\", \"\")) for i in dados['VALOR_TRANSACAO']]\n",
        "\n",
        "#Excluir a coluna original\n",
        "dados.drop(['DATA_LANCAMENTO'], axis=1, inplace=True)\n",
        "\n",
        "dados.dtypes"
      ],
      "metadata": {
        "id": "1C-79TgNCXZV",
        "colab": {
          "base_uri": "https://localhost:8080/"
        },
        "outputId": "17cbd279-827d-454f-be9d-4942e12484e0"
      },
      "execution_count": 8,
      "outputs": [
        {
          "output_type": "execute_result",
          "data": {
            "text/plain": [
              "NOME_TITULAR             object\n",
              "DESCRICAO_LANCAMENTO     object\n",
              "CNAB                      int64\n",
              "VALOR_TRANSACAO         float64\n",
              "NATUREZA_LANCAMENTO       int64\n",
              "SMURFING                  int64\n",
              "ANO_LANCAMENTO            int64\n",
              "MES_LANCAMENTO            int64\n",
              "DIA_LANCAMENTO            int64\n",
              "dtype: object"
            ]
          },
          "metadata": {},
          "execution_count": 8
        }
      ]
    },
    {
      "cell_type": "code",
      "metadata": {
        "id": "1w6fIMg-dK9c"
      },
      "source": [
        "#O método get_dummies transforma as varivéis categóricas em colunas de valores binários e deleta a primeira coluna dos valores criados\n",
        "dados = pd.get_dummies(dados,drop_first=True)\n"
      ],
      "execution_count": 9,
      "outputs": []
    },
    {
      "cell_type": "markdown",
      "source": [
        "##Separar as variáveis independentes (X) da variável target, alvo (Y)"
      ],
      "metadata": {
        "id": "wlSo5xyvLQ5x"
      }
    },
    {
      "cell_type": "code",
      "source": [
        "#Isolar a coluna target SMURGING (y) do conjunto de variáveis independentes (X)\n",
        "X1 = dados.iloc[:,0:3]\n",
        "X2 = dados.iloc[:,4:]\n",
        "X = pd.concat([X1,X2],axis=1)\n",
        "X"
      ],
      "metadata": {
        "id": "dv-TCWEaLPtD"
      },
      "execution_count": null,
      "outputs": []
    },
    {
      "cell_type": "code",
      "source": [
        "#Alocar a coluna SMURFING no conjunto Y\n",
        "y = dados.iloc[:,3:4] \n",
        "y"
      ],
      "metadata": {
        "colab": {
          "base_uri": "https://localhost:8080/",
          "height": 424
        },
        "id": "oYgZf1lK1fRF",
        "outputId": "fe0b3f22-37c8-4732-dca6-7d7382eacd89"
      },
      "execution_count": 12,
      "outputs": [
        {
          "output_type": "execute_result",
          "data": {
            "text/plain": [
              "      SMURFING\n",
              "0            1\n",
              "1            1\n",
              "2            0\n",
              "3            0\n",
              "4            0\n",
              "...        ...\n",
              "6894         0\n",
              "6895         0\n",
              "6896         0\n",
              "6897         0\n",
              "6898         0\n",
              "\n",
              "[6899 rows x 1 columns]"
            ],
            "text/html": [
              "\n",
              "  <div id=\"df-59cd5e81-c001-41ce-8841-2d9330786b82\">\n",
              "    <div class=\"colab-df-container\">\n",
              "      <div>\n",
              "<style scoped>\n",
              "    .dataframe tbody tr th:only-of-type {\n",
              "        vertical-align: middle;\n",
              "    }\n",
              "\n",
              "    .dataframe tbody tr th {\n",
              "        vertical-align: top;\n",
              "    }\n",
              "\n",
              "    .dataframe thead th {\n",
              "        text-align: right;\n",
              "    }\n",
              "</style>\n",
              "<table border=\"1\" class=\"dataframe\">\n",
              "  <thead>\n",
              "    <tr style=\"text-align: right;\">\n",
              "      <th></th>\n",
              "      <th>SMURFING</th>\n",
              "    </tr>\n",
              "  </thead>\n",
              "  <tbody>\n",
              "    <tr>\n",
              "      <th>0</th>\n",
              "      <td>1</td>\n",
              "    </tr>\n",
              "    <tr>\n",
              "      <th>1</th>\n",
              "      <td>1</td>\n",
              "    </tr>\n",
              "    <tr>\n",
              "      <th>2</th>\n",
              "      <td>0</td>\n",
              "    </tr>\n",
              "    <tr>\n",
              "      <th>3</th>\n",
              "      <td>0</td>\n",
              "    </tr>\n",
              "    <tr>\n",
              "      <th>4</th>\n",
              "      <td>0</td>\n",
              "    </tr>\n",
              "    <tr>\n",
              "      <th>...</th>\n",
              "      <td>...</td>\n",
              "    </tr>\n",
              "    <tr>\n",
              "      <th>6894</th>\n",
              "      <td>0</td>\n",
              "    </tr>\n",
              "    <tr>\n",
              "      <th>6895</th>\n",
              "      <td>0</td>\n",
              "    </tr>\n",
              "    <tr>\n",
              "      <th>6896</th>\n",
              "      <td>0</td>\n",
              "    </tr>\n",
              "    <tr>\n",
              "      <th>6897</th>\n",
              "      <td>0</td>\n",
              "    </tr>\n",
              "    <tr>\n",
              "      <th>6898</th>\n",
              "      <td>0</td>\n",
              "    </tr>\n",
              "  </tbody>\n",
              "</table>\n",
              "<p>6899 rows × 1 columns</p>\n",
              "</div>\n",
              "      <button class=\"colab-df-convert\" onclick=\"convertToInteractive('df-59cd5e81-c001-41ce-8841-2d9330786b82')\"\n",
              "              title=\"Convert this dataframe to an interactive table.\"\n",
              "              style=\"display:none;\">\n",
              "        \n",
              "  <svg xmlns=\"http://www.w3.org/2000/svg\" height=\"24px\"viewBox=\"0 0 24 24\"\n",
              "       width=\"24px\">\n",
              "    <path d=\"M0 0h24v24H0V0z\" fill=\"none\"/>\n",
              "    <path d=\"M18.56 5.44l.94 2.06.94-2.06 2.06-.94-2.06-.94-.94-2.06-.94 2.06-2.06.94zm-11 1L8.5 8.5l.94-2.06 2.06-.94-2.06-.94L8.5 2.5l-.94 2.06-2.06.94zm10 10l.94 2.06.94-2.06 2.06-.94-2.06-.94-.94-2.06-.94 2.06-2.06.94z\"/><path d=\"M17.41 7.96l-1.37-1.37c-.4-.4-.92-.59-1.43-.59-.52 0-1.04.2-1.43.59L10.3 9.45l-7.72 7.72c-.78.78-.78 2.05 0 2.83L4 21.41c.39.39.9.59 1.41.59.51 0 1.02-.2 1.41-.59l7.78-7.78 2.81-2.81c.8-.78.8-2.07 0-2.86zM5.41 20L4 18.59l7.72-7.72 1.47 1.35L5.41 20z\"/>\n",
              "  </svg>\n",
              "      </button>\n",
              "      \n",
              "  <style>\n",
              "    .colab-df-container {\n",
              "      display:flex;\n",
              "      flex-wrap:wrap;\n",
              "      gap: 12px;\n",
              "    }\n",
              "\n",
              "    .colab-df-convert {\n",
              "      background-color: #E8F0FE;\n",
              "      border: none;\n",
              "      border-radius: 50%;\n",
              "      cursor: pointer;\n",
              "      display: none;\n",
              "      fill: #1967D2;\n",
              "      height: 32px;\n",
              "      padding: 0 0 0 0;\n",
              "      width: 32px;\n",
              "    }\n",
              "\n",
              "    .colab-df-convert:hover {\n",
              "      background-color: #E2EBFA;\n",
              "      box-shadow: 0px 1px 2px rgba(60, 64, 67, 0.3), 0px 1px 3px 1px rgba(60, 64, 67, 0.15);\n",
              "      fill: #174EA6;\n",
              "    }\n",
              "\n",
              "    [theme=dark] .colab-df-convert {\n",
              "      background-color: #3B4455;\n",
              "      fill: #D2E3FC;\n",
              "    }\n",
              "\n",
              "    [theme=dark] .colab-df-convert:hover {\n",
              "      background-color: #434B5C;\n",
              "      box-shadow: 0px 1px 3px 1px rgba(0, 0, 0, 0.15);\n",
              "      filter: drop-shadow(0px 1px 2px rgba(0, 0, 0, 0.3));\n",
              "      fill: #FFFFFF;\n",
              "    }\n",
              "  </style>\n",
              "\n",
              "      <script>\n",
              "        const buttonEl =\n",
              "          document.querySelector('#df-59cd5e81-c001-41ce-8841-2d9330786b82 button.colab-df-convert');\n",
              "        buttonEl.style.display =\n",
              "          google.colab.kernel.accessAllowed ? 'block' : 'none';\n",
              "\n",
              "        async function convertToInteractive(key) {\n",
              "          const element = document.querySelector('#df-59cd5e81-c001-41ce-8841-2d9330786b82');\n",
              "          const dataTable =\n",
              "            await google.colab.kernel.invokeFunction('convertToInteractive',\n",
              "                                                     [key], {});\n",
              "          if (!dataTable) return;\n",
              "\n",
              "          const docLinkHtml = 'Like what you see? Visit the ' +\n",
              "            '<a target=\"_blank\" href=https://colab.research.google.com/notebooks/data_table.ipynb>data table notebook</a>'\n",
              "            + ' to learn more about interactive tables.';\n",
              "          element.innerHTML = '';\n",
              "          dataTable['output_type'] = 'display_data';\n",
              "          await google.colab.output.renderOutput(dataTable, element);\n",
              "          const docLink = document.createElement('div');\n",
              "          docLink.innerHTML = docLinkHtml;\n",
              "          element.appendChild(docLink);\n",
              "        }\n",
              "      </script>\n",
              "    </div>\n",
              "  </div>\n",
              "  "
            ]
          },
          "metadata": {},
          "execution_count": 12
        }
      ]
    },
    {
      "cell_type": "markdown",
      "source": [
        "##Conjunto de treinamento e teste"
      ],
      "metadata": {
        "id": "adHOZlAtKYuE"
      }
    },
    {
      "cell_type": "code",
      "metadata": {
        "id": "uPBIDPjyeKWK"
      },
      "source": [
        "from sklearn.model_selection import train_test_split\n",
        "X_train, X_test, y_train, y_test = train_test_split(X.values, y.values, test_size = 0.2, random_state = 0)"
      ],
      "execution_count": 13,
      "outputs": []
    },
    {
      "cell_type": "code",
      "metadata": {
        "id": "pXStjw-leZX2",
        "colab": {
          "base_uri": "https://localhost:8080/"
        },
        "outputId": "57df9380-91e1-4e0e-c269-9a8f6a1ba86c"
      },
      "source": [
        "X_train.shape,X_test.shape, y_train.shape, y_test.shape"
      ],
      "execution_count": 14,
      "outputs": [
        {
          "output_type": "execute_result",
          "data": {
            "text/plain": [
              "((5519, 1558), (1380, 1558), (5519, 1), (1380, 1))"
            ]
          },
          "metadata": {},
          "execution_count": 14
        }
      ]
    },
    {
      "cell_type": "markdown",
      "source": [
        "##Normalização das variáveis"
      ],
      "metadata": {
        "id": "mqrefXflKet4"
      }
    },
    {
      "cell_type": "code",
      "metadata": {
        "id": "OersZ1Rset3B"
      },
      "source": [
        "#Escalar as variáveis\n",
        "\n",
        "from sklearn.preprocessing import StandardScaler\n",
        "sc = StandardScaler()\n",
        "X_train = sc.fit_transform(X_train)\n",
        "X_test = sc.transform(X_test)"
      ],
      "execution_count": 15,
      "outputs": []
    },
    {
      "cell_type": "markdown",
      "source": [
        "##Modelos de classificação"
      ],
      "metadata": {
        "id": "Bf9_m7__K-tI"
      }
    },
    {
      "cell_type": "markdown",
      "metadata": {
        "id": "9QAUjWA-fXic"
      },
      "source": [
        "### **Logistic Regression**"
      ]
    },
    {
      "cell_type": "code",
      "metadata": {
        "id": "U4eRQNFefdCB",
        "colab": {
          "base_uri": "https://localhost:8080/"
        },
        "outputId": "e763e319-78a2-41a0-af81-53a283098722"
      },
      "source": [
        "from sklearn.linear_model import LogisticRegression\n",
        "\n",
        "modelo_log = LogisticRegression(random_state = 0)\n",
        "modelo_log.fit(X_train,y_train)\n",
        "y_pred_log = modelo_log.predict(X_test)"
      ],
      "execution_count": 16,
      "outputs": [
        {
          "output_type": "stream",
          "name": "stderr",
          "text": [
            "/usr/local/lib/python3.8/dist-packages/sklearn/utils/validation.py:993: DataConversionWarning: A column-vector y was passed when a 1d array was expected. Please change the shape of y to (n_samples, ), for example using ravel().\n",
            "  y = column_or_1d(y, warn=True)\n",
            "/usr/local/lib/python3.8/dist-packages/sklearn/linear_model/_logistic.py:814: ConvergenceWarning: lbfgs failed to converge (status=1):\n",
            "STOP: TOTAL NO. of ITERATIONS REACHED LIMIT.\n",
            "\n",
            "Increase the number of iterations (max_iter) or scale the data as shown in:\n",
            "    https://scikit-learn.org/stable/modules/preprocessing.html\n",
            "Please also refer to the documentation for alternative solver options:\n",
            "    https://scikit-learn.org/stable/modules/linear_model.html#logistic-regression\n",
            "  n_iter_i = _check_optimize_result(\n"
          ]
        }
      ]
    },
    {
      "cell_type": "markdown",
      "metadata": {
        "id": "l0P6OcwkfzI5"
      },
      "source": [
        "### **SVM**"
      ]
    },
    {
      "cell_type": "code",
      "metadata": {
        "id": "wpV4Iolrfybn",
        "colab": {
          "base_uri": "https://localhost:8080/"
        },
        "outputId": "3ed9df5c-26d2-4f97-80ff-a85e669af604"
      },
      "source": [
        "from sklearn.svm import SVC\n",
        "modelo_svm = SVC(kernel='linear', random_state = 0)# rbf , polinomial\n",
        "modelo_svm.fit(X_train,y_train)\n",
        "y_pred_svm = modelo_svm.predict(X_test)"
      ],
      "execution_count": 17,
      "outputs": [
        {
          "output_type": "stream",
          "name": "stderr",
          "text": [
            "/usr/local/lib/python3.8/dist-packages/sklearn/utils/validation.py:993: DataConversionWarning: A column-vector y was passed when a 1d array was expected. Please change the shape of y to (n_samples, ), for example using ravel().\n",
            "  y = column_or_1d(y, warn=True)\n"
          ]
        }
      ]
    },
    {
      "cell_type": "markdown",
      "metadata": {
        "id": "ByIplkCPgzpG"
      },
      "source": [
        "### **Random Forest Classifier**"
      ]
    },
    {
      "cell_type": "code",
      "metadata": {
        "id": "gH4MyLgRg-_N",
        "colab": {
          "base_uri": "https://localhost:8080/"
        },
        "outputId": "abe1422a-d6e7-40d8-b4d8-a0fbd2114511"
      },
      "source": [
        "from sklearn.ensemble import RandomForestClassifier\n",
        "modelo_rf = RandomForestClassifier(n_estimators = 10, random_state = 0)\n",
        "modelo_rf.fit(X_train,y_train)\n",
        "y_pred_rf = modelo_rf.predict(X_test)"
      ],
      "execution_count": 18,
      "outputs": [
        {
          "output_type": "stream",
          "name": "stderr",
          "text": [
            "<ipython-input-18-2dd9275480eb>:3: DataConversionWarning: A column-vector y was passed when a 1d array was expected. Please change the shape of y to (n_samples,), for example using ravel().\n",
            "  modelo_rf.fit(X_train,y_train)\n"
          ]
        }
      ]
    },
    {
      "cell_type": "markdown",
      "metadata": {
        "id": "laHzt47MhR6w"
      },
      "source": [
        "### **KNN**"
      ]
    },
    {
      "cell_type": "code",
      "metadata": {
        "id": "DF-MQXGwhWEw",
        "colab": {
          "base_uri": "https://localhost:8080/"
        },
        "outputId": "4932fc9a-537e-49b6-8389-174c71841893"
      },
      "source": [
        "from sklearn.neighbors import KNeighborsClassifier\n",
        "modelo_knn = KNeighborsClassifier(n_neighbors = 3)\n",
        "modelo_knn.fit(X_train,y_train)\n",
        "y_pred_knn = modelo_knn.predict(X_test)"
      ],
      "execution_count": 19,
      "outputs": [
        {
          "output_type": "stream",
          "name": "stderr",
          "text": [
            "/usr/local/lib/python3.8/dist-packages/sklearn/neighbors/_classification.py:198: DataConversionWarning: A column-vector y was passed when a 1d array was expected. Please change the shape of y to (n_samples,), for example using ravel().\n",
            "  return self._fit(X, y)\n"
          ]
        }
      ]
    },
    {
      "cell_type": "markdown",
      "metadata": {
        "id": "Qv24sxs6iSQB"
      },
      "source": [
        "##Avaliação dos modelos"
      ]
    },
    {
      "cell_type": "markdown",
      "metadata": {
        "id": "2J7AGTsllwg6"
      },
      "source": [
        "#### **Matriz de Confusão**"
      ]
    },
    {
      "cell_type": "code",
      "metadata": {
        "id": "IK3h5OF5iWTI"
      },
      "source": [
        "from sklearn.metrics import confusion_matrix\n",
        "\n",
        "cm_log = confusion_matrix(y_test,y_pred_log)\n",
        "cm_svm = confusion_matrix(y_test,y_pred_svm)\n",
        "cm_rf = confusion_matrix(y_test,y_pred_rf)\n",
        "cm_knn = confusion_matrix(y_test,y_pred_knn)\n"
      ],
      "execution_count": 20,
      "outputs": []
    },
    {
      "cell_type": "code",
      "source": [
        "cm_log"
      ],
      "metadata": {
        "id": "Luds_XeF4yk6",
        "colab": {
          "base_uri": "https://localhost:8080/"
        },
        "outputId": "44161631-810d-417a-84e6-e5cc9ba2b42c"
      },
      "execution_count": 139,
      "outputs": [
        {
          "output_type": "execute_result",
          "data": {
            "text/plain": [
              "array([[1281,   12],\n",
              "       [  15,   72]])"
            ]
          },
          "metadata": {},
          "execution_count": 139
        }
      ]
    },
    {
      "cell_type": "code",
      "metadata": {
        "id": "UrBI5ED7mibO",
        "colab": {
          "base_uri": "https://localhost:8080/"
        },
        "outputId": "cb7a0f95-b4d9-426c-e86b-42a0f276b63b"
      },
      "source": [
        "cm_svm"
      ],
      "execution_count": 140,
      "outputs": [
        {
          "output_type": "execute_result",
          "data": {
            "text/plain": [
              "array([[1277,   16],\n",
              "       [   8,   79]])"
            ]
          },
          "metadata": {},
          "execution_count": 140
        }
      ]
    },
    {
      "cell_type": "code",
      "metadata": {
        "id": "cOzrjq9mmpoz",
        "colab": {
          "base_uri": "https://localhost:8080/"
        },
        "outputId": "cf455c95-90e9-4114-a0d3-55c65db0b085"
      },
      "source": [
        "cm_rf"
      ],
      "execution_count": 141,
      "outputs": [
        {
          "output_type": "execute_result",
          "data": {
            "text/plain": [
              "array([[1292,    1],\n",
              "       [   0,   87]])"
            ]
          },
          "metadata": {},
          "execution_count": 141
        }
      ]
    },
    {
      "cell_type": "code",
      "metadata": {
        "id": "sjd2RmcumwMp",
        "colab": {
          "base_uri": "https://localhost:8080/"
        },
        "outputId": "5b15bd51-6eb6-447c-e0eb-5202fe818873"
      },
      "source": [
        "cm_knn"
      ],
      "execution_count": 142,
      "outputs": [
        {
          "output_type": "execute_result",
          "data": {
            "text/plain": [
              "array([[1283,   10],\n",
              "       [  18,   69]])"
            ]
          },
          "metadata": {},
          "execution_count": 142
        }
      ]
    },
    {
      "cell_type": "markdown",
      "source": [
        "###Métricas: Classification Report (Recall, Precision, F1-Score, Acc)"
      ],
      "metadata": {
        "id": "v_lckS24PKbR"
      }
    },
    {
      "cell_type": "code",
      "source": [
        "from sklearn.metrics import classification_report\n",
        "\n",
        "classes = ['Classe 0', 'Classe 1']\n",
        "\n",
        "print('Random Forest:')\n",
        "print(classification_report(y_pred_rf, y_test, target_names=classes))"
      ],
      "metadata": {
        "id": "4mzhVHSQIMK_",
        "colab": {
          "base_uri": "https://localhost:8080/"
        },
        "outputId": "579a8e65-2379-43f7-bccd-2a2be6557e5b"
      },
      "execution_count": 21,
      "outputs": [
        {
          "output_type": "stream",
          "name": "stdout",
          "text": [
            "Random Forest:\n",
            "              precision    recall  f1-score   support\n",
            "\n",
            "    Classe 0       1.00      1.00      1.00      1292\n",
            "    Classe 1       1.00      0.99      0.99        88\n",
            "\n",
            "    accuracy                           1.00      1380\n",
            "   macro avg       1.00      0.99      1.00      1380\n",
            "weighted avg       1.00      1.00      1.00      1380\n",
            "\n"
          ]
        }
      ]
    },
    {
      "cell_type": "code",
      "source": [
        "print('KNN:')\n",
        "print(classification_report(y_pred_knn, y_test, target_names=classes))"
      ],
      "metadata": {
        "id": "UqS8BkeXJLUi",
        "colab": {
          "base_uri": "https://localhost:8080/"
        },
        "outputId": "c7f9e8d6-86db-4e0f-e4e4-f735ff068725"
      },
      "execution_count": 144,
      "outputs": [
        {
          "output_type": "stream",
          "name": "stdout",
          "text": [
            "KNN:\n",
            "              precision    recall  f1-score   support\n",
            "\n",
            "    Classe 0       0.99      0.99      0.99      1301\n",
            "    Classe 1       0.79      0.87      0.83        79\n",
            "\n",
            "    accuracy                           0.98      1380\n",
            "   macro avg       0.89      0.93      0.91      1380\n",
            "weighted avg       0.98      0.98      0.98      1380\n",
            "\n"
          ]
        }
      ]
    },
    {
      "cell_type": "code",
      "source": [
        "print('Logistic Regression:')\n",
        "print(classification_report(y_pred_log, y_test, target_names=classes))"
      ],
      "metadata": {
        "id": "SQ0XlbnMJPVQ",
        "colab": {
          "base_uri": "https://localhost:8080/"
        },
        "outputId": "222cc1a2-e8e6-4cbc-9a79-51be66f609b0"
      },
      "execution_count": 145,
      "outputs": [
        {
          "output_type": "stream",
          "name": "stdout",
          "text": [
            "Logistic Regression:\n",
            "              precision    recall  f1-score   support\n",
            "\n",
            "    Classe 0       0.99      0.99      0.99      1296\n",
            "    Classe 1       0.83      0.86      0.84        84\n",
            "\n",
            "    accuracy                           0.98      1380\n",
            "   macro avg       0.91      0.92      0.92      1380\n",
            "weighted avg       0.98      0.98      0.98      1380\n",
            "\n"
          ]
        }
      ]
    },
    {
      "cell_type": "code",
      "source": [
        "print('SVM:')\n",
        "print(classification_report(y_pred_svm, y_test, target_names=classes))"
      ],
      "metadata": {
        "id": "RPOtnmSTJT-6",
        "colab": {
          "base_uri": "https://localhost:8080/"
        },
        "outputId": "180e252c-d15e-4e53-cc06-b0d2f1a60c8c"
      },
      "execution_count": 146,
      "outputs": [
        {
          "output_type": "stream",
          "name": "stdout",
          "text": [
            "SVM:\n",
            "              precision    recall  f1-score   support\n",
            "\n",
            "    Classe 0       0.99      0.99      0.99      1285\n",
            "    Classe 1       0.91      0.83      0.87        95\n",
            "\n",
            "    accuracy                           0.98      1380\n",
            "   macro avg       0.95      0.91      0.93      1380\n",
            "weighted avg       0.98      0.98      0.98      1380\n",
            "\n"
          ]
        }
      ]
    },
    {
      "cell_type": "markdown",
      "source": [
        "####F1 Score"
      ],
      "metadata": {
        "id": "ojqEw6MrH9VC"
      }
    },
    {
      "cell_type": "code",
      "source": [
        "from sklearn.metrics import f1_score\n",
        "f1_log = f1_score(y_test,y_pred_log)\n",
        "f1_svm = f1_score(y_test,y_pred_svm)  \n",
        "f1_rf = f1_score(y_test,y_pred_rf) \n",
        "f1_knn = f1_score(y_test,y_pred_knn) "
      ],
      "metadata": {
        "id": "noXYKaSIFsUK"
      },
      "execution_count": 147,
      "outputs": []
    },
    {
      "cell_type": "code",
      "source": [
        "print('F1 Logistic Regression: ', f1_log)\n",
        "print('F1 SVM: ', f1_svm)\n",
        "print('F1 Random Fortest: ', f1_rf)\n",
        "print('F1 Knn: ', f1_knn)\n"
      ],
      "metadata": {
        "id": "AoXbuPhTGGNe",
        "colab": {
          "base_uri": "https://localhost:8080/"
        },
        "outputId": "e2e693f5-6d3b-495d-a922-a40ff9200e40"
      },
      "execution_count": 148,
      "outputs": [
        {
          "output_type": "stream",
          "name": "stdout",
          "text": [
            "F1 Logistic Regression:  0.8421052631578947\n",
            "F1 SVM:  0.8681318681318682\n",
            "F1 Random Fortest:  0.9942857142857142\n",
            "F1 Knn:  0.8313253012048193\n"
          ]
        }
      ]
    },
    {
      "cell_type": "markdown",
      "source": [
        "####Accuracy"
      ],
      "metadata": {
        "id": "C1tbcdjjH6mT"
      }
    },
    {
      "cell_type": "code",
      "metadata": {
        "id": "q5gjw3XQi4ep"
      },
      "source": [
        "acc_log = (cm_log[0,0]+cm_log[1,1])/cm_log.sum()\n",
        "acc_svm = (cm_svm[0,0]+cm_svm[1,1])/cm_svm.sum()\n",
        "acc_rf = (cm_rf[0,0]+cm_rf[1,1])/cm_rf.sum()\n",
        "acc_knn = (cm_knn[0,0]+cm_knn[1,1])/cm_knn.sum()"
      ],
      "execution_count": 149,
      "outputs": []
    },
    {
      "cell_type": "code",
      "metadata": {
        "id": "Zg9cSXpqkTPc",
        "colab": {
          "base_uri": "https://localhost:8080/"
        },
        "outputId": "7a3d8726-f7a8-46f2-ec57-bf51d92511a0"
      },
      "source": [
        "print('ACC Logistic Regression: ', acc_log)\n",
        "print('ACC SVM: ', acc_svm)\n",
        "print('ACC Random Fortest: ', acc_rf)\n",
        "print('ACC Knn: ', acc_knn)\n"
      ],
      "execution_count": 150,
      "outputs": [
        {
          "output_type": "stream",
          "name": "stdout",
          "text": [
            "ACC Logistic Regression:  0.9804347826086957\n",
            "ACC SVM:  0.9826086956521739\n",
            "ACC Random Fortest:  0.9992753623188406\n",
            "ACC Knn:  0.9797101449275363\n"
          ]
        }
      ]
    }
  ]
}